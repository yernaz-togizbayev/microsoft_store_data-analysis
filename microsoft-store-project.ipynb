{
 "cells": [
  {
   "cell_type": "markdown",
   "metadata": {},
   "source": [
    "# Microsoft Store\n",
    "\n",
    "Here is the data from Microsoft Store. This is my final project on the course \"[Data Analysis with Python: Zero to Pandas](http://zerotopandas.com)\". On this course, I've learned, how to upload dataset with Pandas and edit it, how to work with numpy library, how to analyse and visualise data using matplotlib and seaborn libraries.\n",
    "\n",
    "In my Windows Store data are 6 columns and over 5000 rows. The whole dataset give us information about how many apps were downloaded from Microsoft Store, how many people rated this apps and what is the rating of this apps, and also which category this apps are and what is the cost of the apps.\n",
    "\n",
    "Let's start to analyse it.\n",
    "\n",
    "As a first step, let's upload our Jupyter notebook to [Jovian.ml](https://jovian.ml)."
   ]
  },
  {
   "cell_type": "code",
   "execution_count": 307,
   "metadata": {},
   "outputs": [],
   "source": [
    "project_name = \"Microsoft_Store_Project\""
   ]
  },
  {
   "cell_type": "code",
   "execution_count": 308,
   "metadata": {},
   "outputs": [],
   "source": [
    "!pip install jovian --upgrade -q"
   ]
  },
  {
   "cell_type": "code",
   "execution_count": 309,
   "metadata": {},
   "outputs": [],
   "source": [
    "import jovian"
   ]
  },
  {
   "cell_type": "code",
   "execution_count": 310,
   "metadata": {},
   "outputs": [
    {
     "data": {
      "application/javascript": [
       "window.require && require([\"base/js/namespace\"],function(Jupyter){Jupyter.notebook.save_checkpoint()})"
      ],
      "text/plain": [
       "<IPython.core.display.Javascript object>"
      ]
     },
     "metadata": {},
     "output_type": "display_data"
    },
    {
     "name": "stdout",
     "output_type": "stream",
     "text": [
      "[jovian] Attempting to save notebook..\u001b[0m\n",
      "[jovian] Updating notebook \"yernaz-togizbayev/microsoft-store-project\" on https://jovian.ml/\u001b[0m\n",
      "[jovian] Uploading notebook..\u001b[0m\n",
      "[jovian] Capturing environment..\u001b[0m\n",
      "[jovian] Committed successfully! https://jovian.ml/yernaz-togizbayev/microsoft-store-project\u001b[0m\n"
     ]
    },
    {
     "data": {
      "text/plain": [
       "'https://jovian.ml/yernaz-togizbayev/microsoft-store-project'"
      ]
     },
     "execution_count": 310,
     "metadata": {},
     "output_type": "execute_result"
    }
   ],
   "source": [
    "jovian.commit(project=project_name)"
   ]
  },
  {
   "cell_type": "markdown",
   "metadata": {},
   "source": [
    "## Data Preparation and Cleaning\n",
    "\n",
    "First of all, let's import numpy, pandas, matplotlib and seaborn libraries."
   ]
  },
  {
   "cell_type": "code",
   "execution_count": 311,
   "metadata": {},
   "outputs": [],
   "source": [
    "import numpy as np\n",
    "import pandas as pd\n",
    "import matplotlib.pyplot as plt\n",
    "import seaborn as sns\n",
    "%matplotlib inline"
   ]
  },
  {
   "cell_type": "markdown",
   "metadata": {},
   "source": [
    "We also include the special command `%matplotlib inline` to ensure that plots are shown and embedded within the Jupyter notebook itself, because sometimes plots may show up in pop-up windows without this command.\n",
    "\n",
    "So, now we can upload our data set using pandas."
   ]
  },
  {
   "cell_type": "code",
   "execution_count": 312,
   "metadata": {},
   "outputs": [],
   "source": [
    "data = pd.read_csv(\"msft.csv\")"
   ]
  },
  {
   "cell_type": "markdown",
   "metadata": {},
   "source": [
    "Using the function info() we can check, how many rows and columns in our data set are and also the name of every column."
   ]
  },
  {
   "cell_type": "code",
   "execution_count": 313,
   "metadata": {},
   "outputs": [
    {
     "name": "stdout",
     "output_type": "stream",
     "text": [
      "<class 'pandas.core.frame.DataFrame'>\n",
      "RangeIndex: 5322 entries, 0 to 5321\n",
      "Data columns (total 6 columns):\n",
      " #   Column              Non-Null Count  Dtype  \n",
      "---  ------              --------------  -----  \n",
      " 0   Name                5321 non-null   object \n",
      " 1   Rating              5321 non-null   float64\n",
      " 2   No of people Rated  5322 non-null   int64  \n",
      " 3   Category            5321 non-null   object \n",
      " 4   Date                5321 non-null   object \n",
      " 5   Price               5321 non-null   object \n",
      "dtypes: float64(1), int64(1), object(4)\n",
      "memory usage: 249.6+ KB\n"
     ]
    }
   ],
   "source": [
    "data.info()"
   ]
  },
  {
   "cell_type": "markdown",
   "metadata": {},
   "source": [
    "As we can see, our data set contains 5321 rows and 6 columns. Let us see the content of our data.\n"
   ]
  },
  {
   "cell_type": "code",
   "execution_count": 314,
   "metadata": {},
   "outputs": [
    {
     "data": {
      "text/html": [
       "<div>\n",
       "<style scoped>\n",
       "    .dataframe tbody tr th:only-of-type {\n",
       "        vertical-align: middle;\n",
       "    }\n",
       "\n",
       "    .dataframe tbody tr th {\n",
       "        vertical-align: top;\n",
       "    }\n",
       "\n",
       "    .dataframe thead th {\n",
       "        text-align: right;\n",
       "    }\n",
       "</style>\n",
       "<table border=\"1\" class=\"dataframe\">\n",
       "  <thead>\n",
       "    <tr style=\"text-align: right;\">\n",
       "      <th></th>\n",
       "      <th>Name</th>\n",
       "      <th>Rating</th>\n",
       "      <th>No of people Rated</th>\n",
       "      <th>Category</th>\n",
       "      <th>Date</th>\n",
       "      <th>Price</th>\n",
       "    </tr>\n",
       "  </thead>\n",
       "  <tbody>\n",
       "    <tr>\n",
       "      <th>0</th>\n",
       "      <td>Dynamic Reader</td>\n",
       "      <td>3.5</td>\n",
       "      <td>268</td>\n",
       "      <td>Books</td>\n",
       "      <td>07-01-2014</td>\n",
       "      <td>Free</td>\n",
       "    </tr>\n",
       "    <tr>\n",
       "      <th>1</th>\n",
       "      <td>Chemistry, Organic Chemistry and Biochemistry-...</td>\n",
       "      <td>3.0</td>\n",
       "      <td>627</td>\n",
       "      <td>Books</td>\n",
       "      <td>08-01-2014</td>\n",
       "      <td>Free</td>\n",
       "    </tr>\n",
       "    <tr>\n",
       "      <th>2</th>\n",
       "      <td>BookViewer</td>\n",
       "      <td>3.5</td>\n",
       "      <td>593</td>\n",
       "      <td>Books</td>\n",
       "      <td>29-02-2016</td>\n",
       "      <td>Free</td>\n",
       "    </tr>\n",
       "    <tr>\n",
       "      <th>3</th>\n",
       "      <td>Brick Instructions</td>\n",
       "      <td>3.5</td>\n",
       "      <td>684</td>\n",
       "      <td>Books</td>\n",
       "      <td>30-01-2018</td>\n",
       "      <td>Free</td>\n",
       "    </tr>\n",
       "    <tr>\n",
       "      <th>4</th>\n",
       "      <td>Introduction to Python Programming by GoLearni...</td>\n",
       "      <td>2.0</td>\n",
       "      <td>634</td>\n",
       "      <td>Books</td>\n",
       "      <td>30-01-2018</td>\n",
       "      <td>Free</td>\n",
       "    </tr>\n",
       "    <tr>\n",
       "      <th>...</th>\n",
       "      <td>...</td>\n",
       "      <td>...</td>\n",
       "      <td>...</td>\n",
       "      <td>...</td>\n",
       "      <td>...</td>\n",
       "      <td>...</td>\n",
       "    </tr>\n",
       "    <tr>\n",
       "      <th>5317</th>\n",
       "      <td>JS King</td>\n",
       "      <td>1.0</td>\n",
       "      <td>720</td>\n",
       "      <td>Developer Tools</td>\n",
       "      <td>19-07-2018</td>\n",
       "      <td>₹ 269.00</td>\n",
       "    </tr>\n",
       "    <tr>\n",
       "      <th>5318</th>\n",
       "      <td>MQTTSniffer</td>\n",
       "      <td>2.5</td>\n",
       "      <td>500</td>\n",
       "      <td>Developer Tools</td>\n",
       "      <td>10-04-2017</td>\n",
       "      <td>₹ 64.00</td>\n",
       "    </tr>\n",
       "    <tr>\n",
       "      <th>5319</th>\n",
       "      <td>Dev Utils - JSON, CSV and XML</td>\n",
       "      <td>4.0</td>\n",
       "      <td>862</td>\n",
       "      <td>Developer Tools</td>\n",
       "      <td>18-11-2019</td>\n",
       "      <td>₹ 269.00</td>\n",
       "    </tr>\n",
       "    <tr>\n",
       "      <th>5320</th>\n",
       "      <td>Simply Text</td>\n",
       "      <td>4.0</td>\n",
       "      <td>386</td>\n",
       "      <td>Developer Tools</td>\n",
       "      <td>23-01-2014</td>\n",
       "      <td>₹ 219.00</td>\n",
       "    </tr>\n",
       "    <tr>\n",
       "      <th>5321</th>\n",
       "      <td>NaN</td>\n",
       "      <td>NaN</td>\n",
       "      <td>948</td>\n",
       "      <td>NaN</td>\n",
       "      <td>NaN</td>\n",
       "      <td>NaN</td>\n",
       "    </tr>\n",
       "  </tbody>\n",
       "</table>\n",
       "<p>5322 rows × 6 columns</p>\n",
       "</div>"
      ],
      "text/plain": [
       "                                                   Name  Rating  \\\n",
       "0                                        Dynamic Reader     3.5   \n",
       "1     Chemistry, Organic Chemistry and Biochemistry-...     3.0   \n",
       "2                                            BookViewer     3.5   \n",
       "3                                    Brick Instructions     3.5   \n",
       "4     Introduction to Python Programming by GoLearni...     2.0   \n",
       "...                                                 ...     ...   \n",
       "5317                                            JS King     1.0   \n",
       "5318                                        MQTTSniffer     2.5   \n",
       "5319                      Dev Utils - JSON, CSV and XML     4.0   \n",
       "5320                                        Simply Text     4.0   \n",
       "5321                                                NaN     NaN   \n",
       "\n",
       "      No of people Rated         Category        Date     Price  \n",
       "0                    268            Books  07-01-2014      Free  \n",
       "1                    627            Books  08-01-2014      Free  \n",
       "2                    593            Books  29-02-2016      Free  \n",
       "3                    684            Books  30-01-2018      Free  \n",
       "4                    634            Books  30-01-2018      Free  \n",
       "...                  ...              ...         ...       ...  \n",
       "5317                 720  Developer Tools  19-07-2018  ₹ 269.00  \n",
       "5318                 500  Developer Tools  10-04-2017   ₹ 64.00  \n",
       "5319                 862  Developer Tools  18-11-2019  ₹ 269.00  \n",
       "5320                 386  Developer Tools  23-01-2014  ₹ 219.00  \n",
       "5321                 948              NaN         NaN       NaN  \n",
       "\n",
       "[5322 rows x 6 columns]"
      ]
     },
     "execution_count": 314,
     "metadata": {},
     "output_type": "execute_result"
    }
   ],
   "source": [
    "data"
   ]
  },
  {
   "cell_type": "markdown",
   "metadata": {},
   "source": [
    "As we saw above, we have 5321 rows which is non-null. But when we take a look on our data, there are altogether 5322 rows and the last one is filled with no values `NaN`, which means, it doesn't give us any information about any app in Windows Store, so we can deleate it using drop operation."
   ]
  },
  {
   "cell_type": "code",
   "execution_count": 315,
   "metadata": {
    "scrolled": true
   },
   "outputs": [],
   "source": [
    "data = data.drop(5321)"
   ]
  },
  {
   "cell_type": "code",
   "execution_count": 316,
   "metadata": {
    "scrolled": false
   },
   "outputs": [
    {
     "data": {
      "text/html": [
       "<div>\n",
       "<style scoped>\n",
       "    .dataframe tbody tr th:only-of-type {\n",
       "        vertical-align: middle;\n",
       "    }\n",
       "\n",
       "    .dataframe tbody tr th {\n",
       "        vertical-align: top;\n",
       "    }\n",
       "\n",
       "    .dataframe thead th {\n",
       "        text-align: right;\n",
       "    }\n",
       "</style>\n",
       "<table border=\"1\" class=\"dataframe\">\n",
       "  <thead>\n",
       "    <tr style=\"text-align: right;\">\n",
       "      <th></th>\n",
       "      <th>Name</th>\n",
       "      <th>Rating</th>\n",
       "      <th>No of people Rated</th>\n",
       "      <th>Category</th>\n",
       "      <th>Date</th>\n",
       "      <th>Price</th>\n",
       "    </tr>\n",
       "  </thead>\n",
       "  <tbody>\n",
       "    <tr>\n",
       "      <th>0</th>\n",
       "      <td>Dynamic Reader</td>\n",
       "      <td>3.5</td>\n",
       "      <td>268</td>\n",
       "      <td>Books</td>\n",
       "      <td>07-01-2014</td>\n",
       "      <td>Free</td>\n",
       "    </tr>\n",
       "    <tr>\n",
       "      <th>1</th>\n",
       "      <td>Chemistry, Organic Chemistry and Biochemistry-...</td>\n",
       "      <td>3.0</td>\n",
       "      <td>627</td>\n",
       "      <td>Books</td>\n",
       "      <td>08-01-2014</td>\n",
       "      <td>Free</td>\n",
       "    </tr>\n",
       "    <tr>\n",
       "      <th>2</th>\n",
       "      <td>BookViewer</td>\n",
       "      <td>3.5</td>\n",
       "      <td>593</td>\n",
       "      <td>Books</td>\n",
       "      <td>29-02-2016</td>\n",
       "      <td>Free</td>\n",
       "    </tr>\n",
       "    <tr>\n",
       "      <th>3</th>\n",
       "      <td>Brick Instructions</td>\n",
       "      <td>3.5</td>\n",
       "      <td>684</td>\n",
       "      <td>Books</td>\n",
       "      <td>30-01-2018</td>\n",
       "      <td>Free</td>\n",
       "    </tr>\n",
       "    <tr>\n",
       "      <th>4</th>\n",
       "      <td>Introduction to Python Programming by GoLearni...</td>\n",
       "      <td>2.0</td>\n",
       "      <td>634</td>\n",
       "      <td>Books</td>\n",
       "      <td>30-01-2018</td>\n",
       "      <td>Free</td>\n",
       "    </tr>\n",
       "    <tr>\n",
       "      <th>...</th>\n",
       "      <td>...</td>\n",
       "      <td>...</td>\n",
       "      <td>...</td>\n",
       "      <td>...</td>\n",
       "      <td>...</td>\n",
       "      <td>...</td>\n",
       "    </tr>\n",
       "    <tr>\n",
       "      <th>5316</th>\n",
       "      <td>Get Color</td>\n",
       "      <td>3.0</td>\n",
       "      <td>785</td>\n",
       "      <td>Developer Tools</td>\n",
       "      <td>08-08-2019</td>\n",
       "      <td>₹ 54.50</td>\n",
       "    </tr>\n",
       "    <tr>\n",
       "      <th>5317</th>\n",
       "      <td>JS King</td>\n",
       "      <td>1.0</td>\n",
       "      <td>720</td>\n",
       "      <td>Developer Tools</td>\n",
       "      <td>19-07-2018</td>\n",
       "      <td>₹ 269.00</td>\n",
       "    </tr>\n",
       "    <tr>\n",
       "      <th>5318</th>\n",
       "      <td>MQTTSniffer</td>\n",
       "      <td>2.5</td>\n",
       "      <td>500</td>\n",
       "      <td>Developer Tools</td>\n",
       "      <td>10-04-2017</td>\n",
       "      <td>₹ 64.00</td>\n",
       "    </tr>\n",
       "    <tr>\n",
       "      <th>5319</th>\n",
       "      <td>Dev Utils - JSON, CSV and XML</td>\n",
       "      <td>4.0</td>\n",
       "      <td>862</td>\n",
       "      <td>Developer Tools</td>\n",
       "      <td>18-11-2019</td>\n",
       "      <td>₹ 269.00</td>\n",
       "    </tr>\n",
       "    <tr>\n",
       "      <th>5320</th>\n",
       "      <td>Simply Text</td>\n",
       "      <td>4.0</td>\n",
       "      <td>386</td>\n",
       "      <td>Developer Tools</td>\n",
       "      <td>23-01-2014</td>\n",
       "      <td>₹ 219.00</td>\n",
       "    </tr>\n",
       "  </tbody>\n",
       "</table>\n",
       "<p>5321 rows × 6 columns</p>\n",
       "</div>"
      ],
      "text/plain": [
       "                                                   Name  Rating  \\\n",
       "0                                        Dynamic Reader     3.5   \n",
       "1     Chemistry, Organic Chemistry and Biochemistry-...     3.0   \n",
       "2                                            BookViewer     3.5   \n",
       "3                                    Brick Instructions     3.5   \n",
       "4     Introduction to Python Programming by GoLearni...     2.0   \n",
       "...                                                 ...     ...   \n",
       "5316                                          Get Color     3.0   \n",
       "5317                                            JS King     1.0   \n",
       "5318                                        MQTTSniffer     2.5   \n",
       "5319                      Dev Utils - JSON, CSV and XML     4.0   \n",
       "5320                                        Simply Text     4.0   \n",
       "\n",
       "      No of people Rated         Category        Date     Price  \n",
       "0                    268            Books  07-01-2014      Free  \n",
       "1                    627            Books  08-01-2014      Free  \n",
       "2                    593            Books  29-02-2016      Free  \n",
       "3                    684            Books  30-01-2018      Free  \n",
       "4                    634            Books  30-01-2018      Free  \n",
       "...                  ...              ...         ...       ...  \n",
       "5316                 785  Developer Tools  08-08-2019   ₹ 54.50  \n",
       "5317                 720  Developer Tools  19-07-2018  ₹ 269.00  \n",
       "5318                 500  Developer Tools  10-04-2017   ₹ 64.00  \n",
       "5319                 862  Developer Tools  18-11-2019  ₹ 269.00  \n",
       "5320                 386  Developer Tools  23-01-2014  ₹ 219.00  \n",
       "\n",
       "[5321 rows x 6 columns]"
      ]
     },
     "execution_count": 316,
     "metadata": {},
     "output_type": "execute_result"
    }
   ],
   "source": [
    "data"
   ]
  },
  {
   "cell_type": "markdown",
   "metadata": {},
   "source": [
    "Now, we've got 5321 apps in our data set. So let's take a look on prices. As we can see, there is apps for free and also all prices in strings and in Indian rupee. To make it easier to work with Prices, we should concatinate those prices in integers. But first of all, let's find out, what is the last value of non cost app using modul display and tail."
   ]
  },
  {
   "cell_type": "code",
   "execution_count": 317,
   "metadata": {},
   "outputs": [
    {
     "data": {
      "text/html": [
       "<div>\n",
       "<style scoped>\n",
       "    .dataframe tbody tr th:only-of-type {\n",
       "        vertical-align: middle;\n",
       "    }\n",
       "\n",
       "    .dataframe tbody tr th {\n",
       "        vertical-align: top;\n",
       "    }\n",
       "\n",
       "    .dataframe thead th {\n",
       "        text-align: right;\n",
       "    }\n",
       "</style>\n",
       "<table border=\"1\" class=\"dataframe\">\n",
       "  <thead>\n",
       "    <tr style=\"text-align: right;\">\n",
       "      <th></th>\n",
       "      <th>Name</th>\n",
       "      <th>Rating</th>\n",
       "      <th>No of people Rated</th>\n",
       "      <th>Category</th>\n",
       "      <th>Date</th>\n",
       "      <th>Price</th>\n",
       "    </tr>\n",
       "  </thead>\n",
       "  <tbody>\n",
       "    <tr>\n",
       "      <th>5158</th>\n",
       "      <td>Kad će Kiša</td>\n",
       "      <td>5.0</td>\n",
       "      <td>517</td>\n",
       "      <td>News and Weather</td>\n",
       "      <td>23-10-2017</td>\n",
       "      <td>Free</td>\n",
       "    </tr>\n",
       "    <tr>\n",
       "      <th>5159</th>\n",
       "      <td>Newseen</td>\n",
       "      <td>4.5</td>\n",
       "      <td>948</td>\n",
       "      <td>News and Weather</td>\n",
       "      <td>19-05-2013</td>\n",
       "      <td>Free</td>\n",
       "    </tr>\n",
       "    <tr>\n",
       "      <th>5160</th>\n",
       "      <td>Newser</td>\n",
       "      <td>3.5</td>\n",
       "      <td>502</td>\n",
       "      <td>News and Weather</td>\n",
       "      <td>06-06-2013</td>\n",
       "      <td>Free</td>\n",
       "    </tr>\n",
       "    <tr>\n",
       "      <th>5161</th>\n",
       "      <td>Recent Earthquakes</td>\n",
       "      <td>3.0</td>\n",
       "      <td>419</td>\n",
       "      <td>News and Weather</td>\n",
       "      <td>14-11-2012</td>\n",
       "      <td>Free</td>\n",
       "    </tr>\n",
       "    <tr>\n",
       "      <th>5162</th>\n",
       "      <td>Console news</td>\n",
       "      <td>5.0</td>\n",
       "      <td>655</td>\n",
       "      <td>News and Weather</td>\n",
       "      <td>10-10-2014</td>\n",
       "      <td>Free</td>\n",
       "    </tr>\n",
       "  </tbody>\n",
       "</table>\n",
       "</div>"
      ],
      "text/plain": [
       "                    Name  Rating  No of people Rated          Category  \\\n",
       "5158         Kad će Kiša     5.0                 517  News and Weather   \n",
       "5159             Newseen     4.5                 948  News and Weather   \n",
       "5160              Newser     3.5                 502  News and Weather   \n",
       "5161  Recent Earthquakes     3.0                 419  News and Weather   \n",
       "5162        Console news     5.0                 655  News and Weather   \n",
       "\n",
       "            Date Price  \n",
       "5158  23-10-2017  Free  \n",
       "5159  19-05-2013  Free  \n",
       "5160  06-06-2013  Free  \n",
       "5161  14-11-2012  Free  \n",
       "5162  10-10-2014  Free  "
      ]
     },
     "metadata": {},
     "output_type": "display_data"
    }
   ],
   "source": [
    "from IPython.display import display\n",
    "with pd.option_context('display.max_rows', 100):\n",
    "    display(data[data.Price == 'Free'].tail())"
   ]
  },
  {
   "cell_type": "markdown",
   "metadata": {},
   "source": [
    "So we see, the last row with value of price 'Free' is 5162. Let's replace 'Free' with value 0 and all prices concatinate in integers and transer in euro for more visibility (multiply by 0.0116)."
   ]
  },
  {
   "cell_type": "code",
   "execution_count": 318,
   "metadata": {},
   "outputs": [],
   "source": [
    "Price_list = []\n",
    "for i in data.loc[data.Price != 'Free', 'Price']:\n",
    "    Price_list.append(round(float(i[2:])*0.0116, 2))   "
   ]
  },
  {
   "cell_type": "code",
   "execution_count": 319,
   "metadata": {},
   "outputs": [],
   "source": [
    "data.loc[data.Price != 'Free', 'Price'] = np.array(Price_list)\n"
   ]
  },
  {
   "cell_type": "code",
   "execution_count": 320,
   "metadata": {},
   "outputs": [],
   "source": [
    "data.loc[data.Price == 'Free', 'Price'] = 0"
   ]
  },
  {
   "cell_type": "code",
   "execution_count": 321,
   "metadata": {},
   "outputs": [
    {
     "data": {
      "text/html": [
       "<div>\n",
       "<style scoped>\n",
       "    .dataframe tbody tr th:only-of-type {\n",
       "        vertical-align: middle;\n",
       "    }\n",
       "\n",
       "    .dataframe tbody tr th {\n",
       "        vertical-align: top;\n",
       "    }\n",
       "\n",
       "    .dataframe thead th {\n",
       "        text-align: right;\n",
       "    }\n",
       "</style>\n",
       "<table border=\"1\" class=\"dataframe\">\n",
       "  <thead>\n",
       "    <tr style=\"text-align: right;\">\n",
       "      <th></th>\n",
       "      <th>Name</th>\n",
       "      <th>Rating</th>\n",
       "      <th>No of people Rated</th>\n",
       "      <th>Category</th>\n",
       "      <th>Date</th>\n",
       "      <th>Price</th>\n",
       "    </tr>\n",
       "  </thead>\n",
       "  <tbody>\n",
       "    <tr>\n",
       "      <th>0</th>\n",
       "      <td>Dynamic Reader</td>\n",
       "      <td>3.5</td>\n",
       "      <td>268</td>\n",
       "      <td>Books</td>\n",
       "      <td>07-01-2014</td>\n",
       "      <td>0</td>\n",
       "    </tr>\n",
       "    <tr>\n",
       "      <th>1</th>\n",
       "      <td>Chemistry, Organic Chemistry and Biochemistry-...</td>\n",
       "      <td>3.0</td>\n",
       "      <td>627</td>\n",
       "      <td>Books</td>\n",
       "      <td>08-01-2014</td>\n",
       "      <td>0</td>\n",
       "    </tr>\n",
       "    <tr>\n",
       "      <th>2</th>\n",
       "      <td>BookViewer</td>\n",
       "      <td>3.5</td>\n",
       "      <td>593</td>\n",
       "      <td>Books</td>\n",
       "      <td>29-02-2016</td>\n",
       "      <td>0</td>\n",
       "    </tr>\n",
       "    <tr>\n",
       "      <th>3</th>\n",
       "      <td>Brick Instructions</td>\n",
       "      <td>3.5</td>\n",
       "      <td>684</td>\n",
       "      <td>Books</td>\n",
       "      <td>30-01-2018</td>\n",
       "      <td>0</td>\n",
       "    </tr>\n",
       "    <tr>\n",
       "      <th>4</th>\n",
       "      <td>Introduction to Python Programming by GoLearni...</td>\n",
       "      <td>2.0</td>\n",
       "      <td>634</td>\n",
       "      <td>Books</td>\n",
       "      <td>30-01-2018</td>\n",
       "      <td>0</td>\n",
       "    </tr>\n",
       "    <tr>\n",
       "      <th>...</th>\n",
       "      <td>...</td>\n",
       "      <td>...</td>\n",
       "      <td>...</td>\n",
       "      <td>...</td>\n",
       "      <td>...</td>\n",
       "      <td>...</td>\n",
       "    </tr>\n",
       "    <tr>\n",
       "      <th>5316</th>\n",
       "      <td>Get Color</td>\n",
       "      <td>3.0</td>\n",
       "      <td>785</td>\n",
       "      <td>Developer Tools</td>\n",
       "      <td>08-08-2019</td>\n",
       "      <td>0.63</td>\n",
       "    </tr>\n",
       "    <tr>\n",
       "      <th>5317</th>\n",
       "      <td>JS King</td>\n",
       "      <td>1.0</td>\n",
       "      <td>720</td>\n",
       "      <td>Developer Tools</td>\n",
       "      <td>19-07-2018</td>\n",
       "      <td>3.12</td>\n",
       "    </tr>\n",
       "    <tr>\n",
       "      <th>5318</th>\n",
       "      <td>MQTTSniffer</td>\n",
       "      <td>2.5</td>\n",
       "      <td>500</td>\n",
       "      <td>Developer Tools</td>\n",
       "      <td>10-04-2017</td>\n",
       "      <td>0.74</td>\n",
       "    </tr>\n",
       "    <tr>\n",
       "      <th>5319</th>\n",
       "      <td>Dev Utils - JSON, CSV and XML</td>\n",
       "      <td>4.0</td>\n",
       "      <td>862</td>\n",
       "      <td>Developer Tools</td>\n",
       "      <td>18-11-2019</td>\n",
       "      <td>3.12</td>\n",
       "    </tr>\n",
       "    <tr>\n",
       "      <th>5320</th>\n",
       "      <td>Simply Text</td>\n",
       "      <td>4.0</td>\n",
       "      <td>386</td>\n",
       "      <td>Developer Tools</td>\n",
       "      <td>23-01-2014</td>\n",
       "      <td>2.54</td>\n",
       "    </tr>\n",
       "  </tbody>\n",
       "</table>\n",
       "<p>5321 rows × 6 columns</p>\n",
       "</div>"
      ],
      "text/plain": [
       "                                                   Name  Rating  \\\n",
       "0                                        Dynamic Reader     3.5   \n",
       "1     Chemistry, Organic Chemistry and Biochemistry-...     3.0   \n",
       "2                                            BookViewer     3.5   \n",
       "3                                    Brick Instructions     3.5   \n",
       "4     Introduction to Python Programming by GoLearni...     2.0   \n",
       "...                                                 ...     ...   \n",
       "5316                                          Get Color     3.0   \n",
       "5317                                            JS King     1.0   \n",
       "5318                                        MQTTSniffer     2.5   \n",
       "5319                      Dev Utils - JSON, CSV and XML     4.0   \n",
       "5320                                        Simply Text     4.0   \n",
       "\n",
       "      No of people Rated         Category        Date Price  \n",
       "0                    268            Books  07-01-2014     0  \n",
       "1                    627            Books  08-01-2014     0  \n",
       "2                    593            Books  29-02-2016     0  \n",
       "3                    684            Books  30-01-2018     0  \n",
       "4                    634            Books  30-01-2018     0  \n",
       "...                  ...              ...         ...   ...  \n",
       "5316                 785  Developer Tools  08-08-2019  0.63  \n",
       "5317                 720  Developer Tools  19-07-2018  3.12  \n",
       "5318                 500  Developer Tools  10-04-2017  0.74  \n",
       "5319                 862  Developer Tools  18-11-2019  3.12  \n",
       "5320                 386  Developer Tools  23-01-2014  2.54  \n",
       "\n",
       "[5321 rows x 6 columns]"
      ]
     },
     "execution_count": 321,
     "metadata": {},
     "output_type": "execute_result"
    }
   ],
   "source": [
    "data"
   ]
  },
  {
   "cell_type": "markdown",
   "metadata": {},
   "source": [
    "The last thing what we can do, we rename 'No of people Rated' with 'No_of_people_Rated', so it will easier to work with it."
   ]
  },
  {
   "cell_type": "code",
   "execution_count": 322,
   "metadata": {},
   "outputs": [],
   "source": [
    "data = data.rename(columns={'No of people Rated':'No_of_people_Rated'})"
   ]
  },
  {
   "cell_type": "markdown",
   "metadata": {},
   "source": [
    "Now, if we go up again see information about our data, we see that only 2 of columns were detected as a numeric columns. But since we concatinated Price into integer,even though there is one more column which has numeric values. To make our analysis easier, let's convert it into numeric data types and view some basic statistics about the numeric columns."
   ]
  },
  {
   "cell_type": "code",
   "execution_count": 323,
   "metadata": {},
   "outputs": [],
   "source": [
    "data['Price'] = pd.to_numeric(data.Price, errors = 'coerce')"
   ]
  },
  {
   "cell_type": "code",
   "execution_count": 324,
   "metadata": {},
   "outputs": [
    {
     "data": {
      "text/html": [
       "<div>\n",
       "<style scoped>\n",
       "    .dataframe tbody tr th:only-of-type {\n",
       "        vertical-align: middle;\n",
       "    }\n",
       "\n",
       "    .dataframe tbody tr th {\n",
       "        vertical-align: top;\n",
       "    }\n",
       "\n",
       "    .dataframe thead th {\n",
       "        text-align: right;\n",
       "    }\n",
       "</style>\n",
       "<table border=\"1\" class=\"dataframe\">\n",
       "  <thead>\n",
       "    <tr style=\"text-align: right;\">\n",
       "      <th></th>\n",
       "      <th>Rating</th>\n",
       "      <th>No_of_people_Rated</th>\n",
       "      <th>Price</th>\n",
       "    </tr>\n",
       "  </thead>\n",
       "  <tbody>\n",
       "    <tr>\n",
       "      <th>count</th>\n",
       "      <td>5321.000000</td>\n",
       "      <td>5321.000000</td>\n",
       "      <td>5321.000000</td>\n",
       "    </tr>\n",
       "    <tr>\n",
       "      <th>mean</th>\n",
       "      <td>3.792708</td>\n",
       "      <td>551.798722</td>\n",
       "      <td>0.127743</td>\n",
       "    </tr>\n",
       "    <tr>\n",
       "      <th>std</th>\n",
       "      <td>0.991681</td>\n",
       "      <td>259.787733</td>\n",
       "      <td>1.359608</td>\n",
       "    </tr>\n",
       "    <tr>\n",
       "      <th>min</th>\n",
       "      <td>1.000000</td>\n",
       "      <td>100.000000</td>\n",
       "      <td>0.000000</td>\n",
       "    </tr>\n",
       "    <tr>\n",
       "      <th>25%</th>\n",
       "      <td>3.500000</td>\n",
       "      <td>327.000000</td>\n",
       "      <td>0.000000</td>\n",
       "    </tr>\n",
       "    <tr>\n",
       "      <th>50%</th>\n",
       "      <td>4.000000</td>\n",
       "      <td>548.000000</td>\n",
       "      <td>0.000000</td>\n",
       "    </tr>\n",
       "    <tr>\n",
       "      <th>75%</th>\n",
       "      <td>4.500000</td>\n",
       "      <td>779.000000</td>\n",
       "      <td>0.000000</td>\n",
       "    </tr>\n",
       "    <tr>\n",
       "      <th>max</th>\n",
       "      <td>5.000000</td>\n",
       "      <td>1000.000000</td>\n",
       "      <td>63.210000</td>\n",
       "    </tr>\n",
       "  </tbody>\n",
       "</table>\n",
       "</div>"
      ],
      "text/plain": [
       "            Rating  No_of_people_Rated        Price\n",
       "count  5321.000000         5321.000000  5321.000000\n",
       "mean      3.792708          551.798722     0.127743\n",
       "std       0.991681          259.787733     1.359608\n",
       "min       1.000000          100.000000     0.000000\n",
       "25%       3.500000          327.000000     0.000000\n",
       "50%       4.000000          548.000000     0.000000\n",
       "75%       4.500000          779.000000     0.000000\n",
       "max       5.000000         1000.000000    63.210000"
      ]
     },
     "execution_count": 324,
     "metadata": {},
     "output_type": "execute_result"
    }
   ],
   "source": [
    "data.describe()"
   ]
  },
  {
   "cell_type": "code",
   "execution_count": 325,
   "metadata": {},
   "outputs": [],
   "source": [
    "import jovian"
   ]
  },
  {
   "cell_type": "code",
   "execution_count": 326,
   "metadata": {},
   "outputs": [
    {
     "data": {
      "application/javascript": [
       "window.require && require([\"base/js/namespace\"],function(Jupyter){Jupyter.notebook.save_checkpoint()})"
      ],
      "text/plain": [
       "<IPython.core.display.Javascript object>"
      ]
     },
     "metadata": {},
     "output_type": "display_data"
    },
    {
     "name": "stdout",
     "output_type": "stream",
     "text": [
      "[jovian] Attempting to save notebook..\u001b[0m\n",
      "[jovian] Updating notebook \"yernaz-togizbayev/microsoft-store-project\" on https://jovian.ml/\u001b[0m\n",
      "[jovian] Uploading notebook..\u001b[0m\n",
      "[jovian] Capturing environment..\u001b[0m\n",
      "[jovian] Committed successfully! https://jovian.ml/yernaz-togizbayev/microsoft-store-project\u001b[0m\n"
     ]
    },
    {
     "data": {
      "text/plain": [
       "'https://jovian.ml/yernaz-togizbayev/microsoft-store-project'"
      ]
     },
     "execution_count": 326,
     "metadata": {},
     "output_type": "execute_result"
    }
   ],
   "source": [
    "jovian.commit()"
   ]
  },
  {
   "cell_type": "markdown",
   "metadata": {},
   "source": [
    "## Exploratory Analysis and Visualization\n",
    "\n",
    "Now data set is ready for analysing. Lets see, what is the most amount of downloaded apps gropping by category in this data set and plot it using barplot."
   ]
  },
  {
   "cell_type": "code",
   "execution_count": 327,
   "metadata": {},
   "outputs": [
    {
     "data": {
      "text/plain": [
       "Music                      753\n",
       "Books                      707\n",
       "Business                   679\n",
       "Health and Fitness         527\n",
       "Developer Tools            500\n",
       "Lifestyle                  492\n",
       "News and Weather           483\n",
       "Kids and Family            345\n",
       "Social                     328\n",
       "Food and Dining            166\n",
       "Navigation and Maps        154\n",
       "Multimedia Design          117\n",
       "Government and Politics     70\n",
       "Name: Category, dtype: int64"
      ]
     },
     "execution_count": 327,
     "metadata": {},
     "output_type": "execute_result"
    }
   ],
   "source": [
    "most_popular_category = data.Category.value_counts()\n",
    "most_popular_category"
   ]
  },
  {
   "cell_type": "code",
   "execution_count": 328,
   "metadata": {},
   "outputs": [
    {
     "data": {
      "image/png": "[encoded data removed]",
      "text/plain": [
       "<Figure size 864x432 with 1 Axes>"
      ]
     },
     "metadata": {},
     "output_type": "display_data"
    }
   ],
   "source": [
    "sns.set_style(\"darkgrid\")\n",
    "\n",
    "plt.figure(figsize=(12, 6))\n",
    "plt.title('Which category is the most popular for download?')\n",
    "plt.xticks(rotation = 75)\n",
    "sns.barplot(most_popular_category.index, most_popular_category);"
   ]
  },
  {
   "cell_type": "markdown",
   "metadata": {},
   "source": [
    "Here we can see, that the most of apps in this data set are from category 'Music'."
   ]
  },
  {
   "cell_type": "code",
   "execution_count": 329,
   "metadata": {},
   "outputs": [
    {
     "data": {
      "text/plain": [
       "Category\n",
       "Books                      195.54\n",
       "Business                   218.67\n",
       "Developer Tools            265.51\n",
       "Food and Dining              0.00\n",
       "Government and Politics      0.00\n",
       "Health and Fitness           0.00\n",
       "Kids and Family              0.00\n",
       "Lifestyle                    0.00\n",
       "Multimedia Design            0.00\n",
       "Music                        0.00\n",
       "Navigation and Maps          0.00\n",
       "News and Weather             0.00\n",
       "Social                       0.00\n",
       "Name: Price, dtype: float64"
      ]
     },
     "execution_count": 329,
     "metadata": {},
     "output_type": "execute_result"
    }
   ],
   "source": [
    "Prices = data.groupby('Category')['Price'].sum()\n",
    "Prices"
   ]
  },
  {
   "cell_type": "code",
   "execution_count": 330,
   "metadata": {},
   "outputs": [
    {
     "data": {
      "image/png": "[encoded data removed]",
      "text/plain": [
       "<Figure size 864x432 with 1 Axes>"
      ]
     },
     "metadata": {},
     "output_type": "display_data"
    }
   ],
   "source": [
    "plt.figure(figsize=(12,6))\n",
    "plt.title('Which category has the most highest price?')\n",
    "Prices.plot(kind = \"pie\", autopct = lambda p: '{:.1f}%'.format(round(p)) if p > 0 else None);"
   ]
  },
  {
   "cell_type": "markdown",
   "metadata": {},
   "source": [
    "Since we have only 3 categories, which has a price, we have in our pie chart Books with 29%, Business with 32% and the most expensive - Developer Tools with 39%, which is also not suprised."
   ]
  },
  {
   "cell_type": "markdown",
   "metadata": {},
   "source": [
    "Now lets find out, in which year was the most highest amount of downloads."
   ]
  },
  {
   "cell_type": "code",
   "execution_count": 331,
   "metadata": {},
   "outputs": [],
   "source": [
    "data['year'] = pd.DatetimeIndex(data.Date).year\n",
    "data['month'] = pd.DatetimeIndex(data.Date).month\n",
    "data['day'] = pd.DatetimeIndex(data.Date).day\n",
    "data['weekday'] = pd.DatetimeIndex(data.Date).weekday"
   ]
  },
  {
   "cell_type": "code",
   "execution_count": 332,
   "metadata": {},
   "outputs": [],
   "source": [
    "downloaded_apps_in_year = data.groupby('year')['No_of_people_Rated'].sum()"
   ]
  },
  {
   "cell_type": "code",
   "execution_count": 333,
   "metadata": {},
   "outputs": [
    {
     "data": {
      "text/plain": [
       "year\n",
       "2010      3437\n",
       "2011     19310\n",
       "2012    182980\n",
       "2013    296449\n",
       "2014    322020\n",
       "2015    324753\n",
       "2016    547455\n",
       "2017    433195\n",
       "2018    444461\n",
       "2019    259434\n",
       "2020    102627\n",
       "Name: No_of_people_Rated, dtype: int64"
      ]
     },
     "execution_count": 333,
     "metadata": {},
     "output_type": "execute_result"
    }
   ],
   "source": [
    "downloaded_apps_in_year"
   ]
  },
  {
   "cell_type": "code",
   "execution_count": 334,
   "metadata": {},
   "outputs": [
    {
     "data": {
      "image/png": "[encoded data removed]",
      "text/plain": [
       "<Figure size 864x576 with 1 Axes>"
      ]
     },
     "metadata": {},
     "output_type": "display_data"
    }
   ],
   "source": [
    "plt.figure(figsize=(12, 8))\n",
    "\n",
    "plt.xlabel('Years')\n",
    "plt.ylabel('Downloaded apps in this year')\n",
    "plt.title(\"In which year were the most downloads from Windows Store?\")\n",
    "plt.plot(downloaded_apps_in_year.index, downloaded_apps_in_year, 'r-o');\n",
    "plt.xticks(downloaded_apps_in_year.index);"
   ]
  },
  {
   "cell_type": "markdown",
   "metadata": {},
   "source": [
    "Here we can see the development of downloads from Windows Store. It seems from 2010 it's getting higher and reach the pick of downloads in 2016 with over 500000 downloads, and then go down and got a little more than 100000 downloads in 2020."
   ]
  },
  {
   "cell_type": "markdown",
   "metadata": {},
   "source": [
    "And finaly, lets see, on which day people are downloading apps the most."
   ]
  },
  {
   "cell_type": "code",
   "execution_count": 335,
   "metadata": {},
   "outputs": [],
   "source": [
    "downloads_weekday = data.groupby('weekday')['No_of_people_Rated'].sum()"
   ]
  },
  {
   "cell_type": "code",
   "execution_count": 336,
   "metadata": {},
   "outputs": [
    {
     "data": {
      "text/plain": [
       "weekday\n",
       "0    563905\n",
       "1    473089\n",
       "2    463665\n",
       "3    466341\n",
       "4    460497\n",
       "5    287821\n",
       "6    220803\n",
       "Name: No_of_people_Rated, dtype: int64"
      ]
     },
     "execution_count": 336,
     "metadata": {},
     "output_type": "execute_result"
    }
   ],
   "source": [
    "downloads_weekday"
   ]
  },
  {
   "cell_type": "code",
   "execution_count": 337,
   "metadata": {},
   "outputs": [
    {
     "data": {
      "image/png": "[encoded data removed]",
      "text/plain": [
       "<Figure size 864x576 with 1 Axes>"
      ]
     },
     "metadata": {},
     "output_type": "display_data"
    }
   ],
   "source": [
    "plt.figure(figsize = (12, 8))\n",
    "plt.title(\"On which weekday do the most downloads take place?\")\n",
    "sns.barplot(downloads_weekday.index, downloads_weekday);"
   ]
  },
  {
   "cell_type": "markdown",
   "metadata": {},
   "source": [
    "It seems the most popular day for apps downloading is Monday. And Tuesday, Wednesday, Thursday and Friday has almost the same amount of downloads. And looks like weekends are not the day for downloading apps. I guess, a lot of people are spending more time going outside and meeting friends or dooing any other activities and hobbies, which is pretty nice."
   ]
  },
  {
   "cell_type": "code",
   "execution_count": 338,
   "metadata": {},
   "outputs": [],
   "source": [
    "import jovian"
   ]
  },
  {
   "cell_type": "code",
   "execution_count": 339,
   "metadata": {},
   "outputs": [
    {
     "data": {
      "application/javascript": [
       "window.require && require([\"base/js/namespace\"],function(Jupyter){Jupyter.notebook.save_checkpoint()})"
      ],
      "text/plain": [
       "<IPython.core.display.Javascript object>"
      ]
     },
     "metadata": {},
     "output_type": "display_data"
    },
    {
     "name": "stdout",
     "output_type": "stream",
     "text": [
      "[jovian] Attempting to save notebook..\u001b[0m\n",
      "[jovian] Updating notebook \"yernaz-togizbayev/microsoft-store-project\" on https://jovian.ml/\u001b[0m\n",
      "[jovian] Uploading notebook..\u001b[0m\n",
      "[jovian] Capturing environment..\u001b[0m\n",
      "[jovian] Committed successfully! https://jovian.ml/yernaz-togizbayev/microsoft-store-project\u001b[0m\n"
     ]
    },
    {
     "data": {
      "text/plain": [
       "'https://jovian.ml/yernaz-togizbayev/microsoft-store-project'"
      ]
     },
     "execution_count": 339,
     "metadata": {},
     "output_type": "execute_result"
    }
   ],
   "source": [
    "jovian.commit()"
   ]
  },
  {
   "cell_type": "markdown",
   "metadata": {},
   "source": [
    "## Asking and Answering Questions\n",
    "\n",
    "So now, lets analyze our dataset by asking some questions."
   ]
  },
  {
   "cell_type": "markdown",
   "metadata": {},
   "source": [
    "### Q1: What is the most popular/unpopular app in the Windows Store?"
   ]
  },
  {
   "cell_type": "markdown",
   "metadata": {},
   "source": [
    "If we gonna sort the data only by 'Rating', it doesn't give us an exakt answer for this qestion, because they're can be a lot of apps which were reted with 5 stars. And we sort it only by 'No_of_people_Rated', it doesn't give us an exakt answer too, because there can also a lot of apps, which were downloaded a lot of times, but rated as only 3 stars for example or even less.\n",
    "\n",
    "So the perfect way to answer this question is sort the data both by 'Rating' and 'No_of_people_Rated'. And we don't have to forget to put 'Rating' on the first place, so it's going to be sorting at first by 'Rating' and then by 'No_of_people_Rated'.\n",
    "\n",
    "Lets see 20 the most popular and 20 the most unpopular apps in Windows Store."
   ]
  },
  {
   "cell_type": "code",
   "execution_count": 340,
   "metadata": {},
   "outputs": [],
   "source": [
    "best_apps = data.sort_values(['Rating', 'No_of_people_Rated'], ascending = False).head(20)"
   ]
  },
  {
   "cell_type": "code",
   "execution_count": 341,
   "metadata": {},
   "outputs": [
    {
     "data": {
      "text/html": [
       "<div>\n",
       "<style scoped>\n",
       "    .dataframe tbody tr th:only-of-type {\n",
       "        vertical-align: middle;\n",
       "    }\n",
       "\n",
       "    .dataframe tbody tr th {\n",
       "        vertical-align: top;\n",
       "    }\n",
       "\n",
       "    .dataframe thead th {\n",
       "        text-align: right;\n",
       "    }\n",
       "</style>\n",
       "<table border=\"1\" class=\"dataframe\">\n",
       "  <thead>\n",
       "    <tr style=\"text-align: right;\">\n",
       "      <th></th>\n",
       "      <th>Name</th>\n",
       "      <th>Rating</th>\n",
       "      <th>No_of_people_Rated</th>\n",
       "      <th>Category</th>\n",
       "      <th>Date</th>\n",
       "      <th>Price</th>\n",
       "      <th>year</th>\n",
       "      <th>month</th>\n",
       "      <th>day</th>\n",
       "      <th>weekday</th>\n",
       "    </tr>\n",
       "  </thead>\n",
       "  <tbody>\n",
       "    <tr>\n",
       "      <th>1883</th>\n",
       "      <td>ILN</td>\n",
       "      <td>5.0</td>\n",
       "      <td>999</td>\n",
       "      <td>Social</td>\n",
       "      <td>05-12-2019</td>\n",
       "      <td>0.00</td>\n",
       "      <td>2019</td>\n",
       "      <td>5</td>\n",
       "      <td>12</td>\n",
       "      <td>6</td>\n",
       "    </tr>\n",
       "    <tr>\n",
       "      <th>319</th>\n",
       "      <td>TookBook</td>\n",
       "      <td>5.0</td>\n",
       "      <td>998</td>\n",
       "      <td>Books</td>\n",
       "      <td>26-06-2018</td>\n",
       "      <td>0.00</td>\n",
       "      <td>2018</td>\n",
       "      <td>6</td>\n",
       "      <td>26</td>\n",
       "      <td>1</td>\n",
       "    </tr>\n",
       "    <tr>\n",
       "      <th>3406</th>\n",
       "      <td>Contemplatio - Rosary with images</td>\n",
       "      <td>5.0</td>\n",
       "      <td>998</td>\n",
       "      <td>Lifestyle</td>\n",
       "      <td>13-08-2018</td>\n",
       "      <td>0.00</td>\n",
       "      <td>2018</td>\n",
       "      <td>8</td>\n",
       "      <td>13</td>\n",
       "      <td>0</td>\n",
       "    </tr>\n",
       "    <tr>\n",
       "      <th>3241</th>\n",
       "      <td>Five Good Things</td>\n",
       "      <td>5.0</td>\n",
       "      <td>996</td>\n",
       "      <td>Lifestyle</td>\n",
       "      <td>16-10-2016</td>\n",
       "      <td>0.00</td>\n",
       "      <td>2016</td>\n",
       "      <td>10</td>\n",
       "      <td>16</td>\n",
       "      <td>6</td>\n",
       "    </tr>\n",
       "    <tr>\n",
       "      <th>2662</th>\n",
       "      <td>Magenta Health</td>\n",
       "      <td>5.0</td>\n",
       "      <td>993</td>\n",
       "      <td>Health and Fitness</td>\n",
       "      <td>28-02-2016</td>\n",
       "      <td>0.00</td>\n",
       "      <td>2016</td>\n",
       "      <td>2</td>\n",
       "      <td>28</td>\n",
       "      <td>6</td>\n",
       "    </tr>\n",
       "    <tr>\n",
       "      <th>1469</th>\n",
       "      <td>BIOSToolKit</td>\n",
       "      <td>5.0</td>\n",
       "      <td>989</td>\n",
       "      <td>Developer Tools</td>\n",
       "      <td>26-07-2018</td>\n",
       "      <td>0.00</td>\n",
       "      <td>2018</td>\n",
       "      <td>7</td>\n",
       "      <td>26</td>\n",
       "      <td>3</td>\n",
       "    </tr>\n",
       "    <tr>\n",
       "      <th>252</th>\n",
       "      <td>Ask Sai</td>\n",
       "      <td>5.0</td>\n",
       "      <td>988</td>\n",
       "      <td>Books</td>\n",
       "      <td>17-04-2011</td>\n",
       "      <td>0.00</td>\n",
       "      <td>2011</td>\n",
       "      <td>4</td>\n",
       "      <td>17</td>\n",
       "      <td>6</td>\n",
       "    </tr>\n",
       "    <tr>\n",
       "      <th>2038</th>\n",
       "      <td>Parents Worship Day</td>\n",
       "      <td>5.0</td>\n",
       "      <td>988</td>\n",
       "      <td>Social</td>\n",
       "      <td>09-02-2015</td>\n",
       "      <td>0.00</td>\n",
       "      <td>2015</td>\n",
       "      <td>9</td>\n",
       "      <td>2</td>\n",
       "      <td>2</td>\n",
       "    </tr>\n",
       "    <tr>\n",
       "      <th>5305</th>\n",
       "      <td>Littledot</td>\n",
       "      <td>5.0</td>\n",
       "      <td>987</td>\n",
       "      <td>Developer Tools</td>\n",
       "      <td>23-03-2019</td>\n",
       "      <td>0.92</td>\n",
       "      <td>2019</td>\n",
       "      <td>3</td>\n",
       "      <td>23</td>\n",
       "      <td>5</td>\n",
       "    </tr>\n",
       "    <tr>\n",
       "      <th>4653</th>\n",
       "      <td>See Tow Bus</td>\n",
       "      <td>5.0</td>\n",
       "      <td>986</td>\n",
       "      <td>Navigation and Maps</td>\n",
       "      <td>25-10-2018</td>\n",
       "      <td>0.00</td>\n",
       "      <td>2018</td>\n",
       "      <td>10</td>\n",
       "      <td>25</td>\n",
       "      <td>3</td>\n",
       "    </tr>\n",
       "    <tr>\n",
       "      <th>2497</th>\n",
       "      <td>EMS Monitoring Studio</td>\n",
       "      <td>5.0</td>\n",
       "      <td>985</td>\n",
       "      <td>Health and Fitness</td>\n",
       "      <td>14-06-2019</td>\n",
       "      <td>0.00</td>\n",
       "      <td>2019</td>\n",
       "      <td>6</td>\n",
       "      <td>14</td>\n",
       "      <td>4</td>\n",
       "    </tr>\n",
       "    <tr>\n",
       "      <th>944</th>\n",
       "      <td>Jot ERP</td>\n",
       "      <td>5.0</td>\n",
       "      <td>984</td>\n",
       "      <td>Business</td>\n",
       "      <td>09-11-2016</td>\n",
       "      <td>0.00</td>\n",
       "      <td>2016</td>\n",
       "      <td>9</td>\n",
       "      <td>11</td>\n",
       "      <td>6</td>\n",
       "    </tr>\n",
       "    <tr>\n",
       "      <th>2567</th>\n",
       "      <td>STOPP app</td>\n",
       "      <td>5.0</td>\n",
       "      <td>984</td>\n",
       "      <td>Health and Fitness</td>\n",
       "      <td>26-08-2016</td>\n",
       "      <td>0.00</td>\n",
       "      <td>2016</td>\n",
       "      <td>8</td>\n",
       "      <td>26</td>\n",
       "      <td>4</td>\n",
       "    </tr>\n",
       "    <tr>\n",
       "      <th>951</th>\n",
       "      <td>Black Scholes Calculator</td>\n",
       "      <td>5.0</td>\n",
       "      <td>983</td>\n",
       "      <td>Business</td>\n",
       "      <td>27-02-2016</td>\n",
       "      <td>0.00</td>\n",
       "      <td>2016</td>\n",
       "      <td>2</td>\n",
       "      <td>27</td>\n",
       "      <td>5</td>\n",
       "    </tr>\n",
       "    <tr>\n",
       "      <th>1681</th>\n",
       "      <td>Enterprise Mobility News</td>\n",
       "      <td>5.0</td>\n",
       "      <td>982</td>\n",
       "      <td>Developer Tools</td>\n",
       "      <td>24-02-2016</td>\n",
       "      <td>0.00</td>\n",
       "      <td>2016</td>\n",
       "      <td>2</td>\n",
       "      <td>24</td>\n",
       "      <td>2</td>\n",
       "    </tr>\n",
       "    <tr>\n",
       "      <th>3851</th>\n",
       "      <td>MP3 Volume Booster</td>\n",
       "      <td>5.0</td>\n",
       "      <td>982</td>\n",
       "      <td>Music</td>\n",
       "      <td>25-02-2020</td>\n",
       "      <td>0.00</td>\n",
       "      <td>2020</td>\n",
       "      <td>2</td>\n",
       "      <td>25</td>\n",
       "      <td>1</td>\n",
       "    </tr>\n",
       "    <tr>\n",
       "      <th>521</th>\n",
       "      <td>Lilith story</td>\n",
       "      <td>5.0</td>\n",
       "      <td>981</td>\n",
       "      <td>Books</td>\n",
       "      <td>28-02-2017</td>\n",
       "      <td>0.00</td>\n",
       "      <td>2017</td>\n",
       "      <td>2</td>\n",
       "      <td>28</td>\n",
       "      <td>1</td>\n",
       "    </tr>\n",
       "    <tr>\n",
       "      <th>1534</th>\n",
       "      <td>Tabnalysis</td>\n",
       "      <td>5.0</td>\n",
       "      <td>981</td>\n",
       "      <td>Developer Tools</td>\n",
       "      <td>19-09-2017</td>\n",
       "      <td>0.00</td>\n",
       "      <td>2017</td>\n",
       "      <td>9</td>\n",
       "      <td>19</td>\n",
       "      <td>1</td>\n",
       "    </tr>\n",
       "    <tr>\n",
       "      <th>1551</th>\n",
       "      <td>TPM Return Code Decoder</td>\n",
       "      <td>5.0</td>\n",
       "      <td>981</td>\n",
       "      <td>Developer Tools</td>\n",
       "      <td>26-04-2016</td>\n",
       "      <td>0.00</td>\n",
       "      <td>2016</td>\n",
       "      <td>4</td>\n",
       "      <td>26</td>\n",
       "      <td>1</td>\n",
       "    </tr>\n",
       "    <tr>\n",
       "      <th>2639</th>\n",
       "      <td>Abs boot camp island game</td>\n",
       "      <td>5.0</td>\n",
       "      <td>981</td>\n",
       "      <td>Health and Fitness</td>\n",
       "      <td>20-07-2017</td>\n",
       "      <td>0.00</td>\n",
       "      <td>2017</td>\n",
       "      <td>7</td>\n",
       "      <td>20</td>\n",
       "      <td>3</td>\n",
       "    </tr>\n",
       "  </tbody>\n",
       "</table>\n",
       "</div>"
      ],
      "text/plain": [
       "                                   Name  Rating  No_of_people_Rated  \\\n",
       "1883                                ILN     5.0                 999   \n",
       "319                            TookBook     5.0                 998   \n",
       "3406  Contemplatio - Rosary with images     5.0                 998   \n",
       "3241                   Five Good Things     5.0                 996   \n",
       "2662                     Magenta Health     5.0                 993   \n",
       "1469                        BIOSToolKit     5.0                 989   \n",
       "252                             Ask Sai     5.0                 988   \n",
       "2038                Parents Worship Day     5.0                 988   \n",
       "5305                          Littledot     5.0                 987   \n",
       "4653                        See Tow Bus     5.0                 986   \n",
       "2497              EMS Monitoring Studio     5.0                 985   \n",
       "944                             Jot ERP     5.0                 984   \n",
       "2567                          STOPP app     5.0                 984   \n",
       "951            Black Scholes Calculator     5.0                 983   \n",
       "1681           Enterprise Mobility News     5.0                 982   \n",
       "3851                 MP3 Volume Booster     5.0                 982   \n",
       "521                        Lilith story     5.0                 981   \n",
       "1534                         Tabnalysis     5.0                 981   \n",
       "1551            TPM Return Code Decoder     5.0                 981   \n",
       "2639          Abs boot camp island game     5.0                 981   \n",
       "\n",
       "                 Category        Date  Price  year  month  day  weekday  \n",
       "1883               Social  05-12-2019   0.00  2019      5   12        6  \n",
       "319                 Books  26-06-2018   0.00  2018      6   26        1  \n",
       "3406            Lifestyle  13-08-2018   0.00  2018      8   13        0  \n",
       "3241            Lifestyle  16-10-2016   0.00  2016     10   16        6  \n",
       "2662   Health and Fitness  28-02-2016   0.00  2016      2   28        6  \n",
       "1469      Developer Tools  26-07-2018   0.00  2018      7   26        3  \n",
       "252                 Books  17-04-2011   0.00  2011      4   17        6  \n",
       "2038               Social  09-02-2015   0.00  2015      9    2        2  \n",
       "5305      Developer Tools  23-03-2019   0.92  2019      3   23        5  \n",
       "4653  Navigation and Maps  25-10-2018   0.00  2018     10   25        3  \n",
       "2497   Health and Fitness  14-06-2019   0.00  2019      6   14        4  \n",
       "944              Business  09-11-2016   0.00  2016      9   11        6  \n",
       "2567   Health and Fitness  26-08-2016   0.00  2016      8   26        4  \n",
       "951              Business  27-02-2016   0.00  2016      2   27        5  \n",
       "1681      Developer Tools  24-02-2016   0.00  2016      2   24        2  \n",
       "3851                Music  25-02-2020   0.00  2020      2   25        1  \n",
       "521                 Books  28-02-2017   0.00  2017      2   28        1  \n",
       "1534      Developer Tools  19-09-2017   0.00  2017      9   19        1  \n",
       "1551      Developer Tools  26-04-2016   0.00  2016      4   26        1  \n",
       "2639   Health and Fitness  20-07-2017   0.00  2017      7   20        3  "
      ]
     },
     "execution_count": 341,
     "metadata": {},
     "output_type": "execute_result"
    }
   ],
   "source": [
    "best_apps"
   ]
  },
  {
   "cell_type": "code",
   "execution_count": 342,
   "metadata": {},
   "outputs": [],
   "source": [
    "worst_apps = best_apps = data.sort_values(['Rating', 'No_of_people_Rated'], ascending = False).tail(20)"
   ]
  },
  {
   "cell_type": "code",
   "execution_count": 343,
   "metadata": {},
   "outputs": [
    {
     "data": {
      "text/html": [
       "<div>\n",
       "<style scoped>\n",
       "    .dataframe tbody tr th:only-of-type {\n",
       "        vertical-align: middle;\n",
       "    }\n",
       "\n",
       "    .dataframe tbody tr th {\n",
       "        vertical-align: top;\n",
       "    }\n",
       "\n",
       "    .dataframe thead th {\n",
       "        text-align: right;\n",
       "    }\n",
       "</style>\n",
       "<table border=\"1\" class=\"dataframe\">\n",
       "  <thead>\n",
       "    <tr style=\"text-align: right;\">\n",
       "      <th></th>\n",
       "      <th>Name</th>\n",
       "      <th>Rating</th>\n",
       "      <th>No_of_people_Rated</th>\n",
       "      <th>Category</th>\n",
       "      <th>Date</th>\n",
       "      <th>Price</th>\n",
       "      <th>year</th>\n",
       "      <th>month</th>\n",
       "      <th>day</th>\n",
       "      <th>weekday</th>\n",
       "    </tr>\n",
       "  </thead>\n",
       "  <tbody>\n",
       "    <tr>\n",
       "      <th>4444</th>\n",
       "      <td>Rennie Foster - Heart Shaped Shadow</td>\n",
       "      <td>1.0</td>\n",
       "      <td>176</td>\n",
       "      <td>Music</td>\n",
       "      <td>15-08-2013</td>\n",
       "      <td>0.00</td>\n",
       "      <td>2013</td>\n",
       "      <td>8</td>\n",
       "      <td>15</td>\n",
       "      <td>3</td>\n",
       "    </tr>\n",
       "    <tr>\n",
       "      <th>5249</th>\n",
       "      <td>Mirror to Samsung TV</td>\n",
       "      <td>1.0</td>\n",
       "      <td>175</td>\n",
       "      <td>Business</td>\n",
       "      <td>20-05-2020</td>\n",
       "      <td>3.12</td>\n",
       "      <td>2020</td>\n",
       "      <td>5</td>\n",
       "      <td>20</td>\n",
       "      <td>2</td>\n",
       "    </tr>\n",
       "    <tr>\n",
       "      <th>5267</th>\n",
       "      <td>Remote for Sonos.</td>\n",
       "      <td>1.0</td>\n",
       "      <td>170</td>\n",
       "      <td>Business</td>\n",
       "      <td>09-05-2020</td>\n",
       "      <td>3.12</td>\n",
       "      <td>2020</td>\n",
       "      <td>9</td>\n",
       "      <td>5</td>\n",
       "      <td>5</td>\n",
       "    </tr>\n",
       "    <tr>\n",
       "      <th>1963</th>\n",
       "      <td>ModernDeck</td>\n",
       "      <td>1.0</td>\n",
       "      <td>164</td>\n",
       "      <td>Social</td>\n",
       "      <td>09-05-2019</td>\n",
       "      <td>0.00</td>\n",
       "      <td>2019</td>\n",
       "      <td>9</td>\n",
       "      <td>5</td>\n",
       "      <td>3</td>\n",
       "    </tr>\n",
       "    <tr>\n",
       "      <th>4074</th>\n",
       "      <td>Transpose FREE</td>\n",
       "      <td>1.0</td>\n",
       "      <td>163</td>\n",
       "      <td>Music</td>\n",
       "      <td>01-02-2017</td>\n",
       "      <td>0.00</td>\n",
       "      <td>2017</td>\n",
       "      <td>1</td>\n",
       "      <td>2</td>\n",
       "      <td>0</td>\n",
       "    </tr>\n",
       "    <tr>\n",
       "      <th>495</th>\n",
       "      <td>Romeo and Juliet ebook</td>\n",
       "      <td>1.0</td>\n",
       "      <td>159</td>\n",
       "      <td>Books</td>\n",
       "      <td>25-04-2017</td>\n",
       "      <td>0.00</td>\n",
       "      <td>2017</td>\n",
       "      <td>4</td>\n",
       "      <td>25</td>\n",
       "      <td>1</td>\n",
       "    </tr>\n",
       "    <tr>\n",
       "      <th>783</th>\n",
       "      <td>PeoplePerHour Desktop</td>\n",
       "      <td>1.0</td>\n",
       "      <td>155</td>\n",
       "      <td>Business</td>\n",
       "      <td>21-06-2017</td>\n",
       "      <td>0.00</td>\n",
       "      <td>2017</td>\n",
       "      <td>6</td>\n",
       "      <td>21</td>\n",
       "      <td>2</td>\n",
       "    </tr>\n",
       "    <tr>\n",
       "      <th>5299</th>\n",
       "      <td>Offline Documentation Browser</td>\n",
       "      <td>1.0</td>\n",
       "      <td>153</td>\n",
       "      <td>Developer Tools</td>\n",
       "      <td>13-03-2020</td>\n",
       "      <td>13.33</td>\n",
       "      <td>2020</td>\n",
       "      <td>3</td>\n",
       "      <td>13</td>\n",
       "      <td>4</td>\n",
       "    </tr>\n",
       "    <tr>\n",
       "      <th>1717</th>\n",
       "      <td>UWP Advertising C# Sample</td>\n",
       "      <td>1.0</td>\n",
       "      <td>146</td>\n",
       "      <td>Developer Tools</td>\n",
       "      <td>27-07-2017</td>\n",
       "      <td>0.00</td>\n",
       "      <td>2017</td>\n",
       "      <td>7</td>\n",
       "      <td>27</td>\n",
       "      <td>3</td>\n",
       "    </tr>\n",
       "    <tr>\n",
       "      <th>1879</th>\n",
       "      <td>Social Companion</td>\n",
       "      <td>1.0</td>\n",
       "      <td>140</td>\n",
       "      <td>Social</td>\n",
       "      <td>06-09-2016</td>\n",
       "      <td>0.00</td>\n",
       "      <td>2016</td>\n",
       "      <td>6</td>\n",
       "      <td>9</td>\n",
       "      <td>3</td>\n",
       "    </tr>\n",
       "    <tr>\n",
       "      <th>5240</th>\n",
       "      <td>Screen Mirror to Apple TV.</td>\n",
       "      <td>1.0</td>\n",
       "      <td>138</td>\n",
       "      <td>Business</td>\n",
       "      <td>10-05-2020</td>\n",
       "      <td>3.12</td>\n",
       "      <td>2020</td>\n",
       "      <td>10</td>\n",
       "      <td>5</td>\n",
       "      <td>0</td>\n",
       "    </tr>\n",
       "    <tr>\n",
       "      <th>3295</th>\n",
       "      <td>Flos Catalogues</td>\n",
       "      <td>1.0</td>\n",
       "      <td>133</td>\n",
       "      <td>Lifestyle</td>\n",
       "      <td>17-09-2015</td>\n",
       "      <td>0.00</td>\n",
       "      <td>2015</td>\n",
       "      <td>9</td>\n",
       "      <td>17</td>\n",
       "      <td>3</td>\n",
       "    </tr>\n",
       "    <tr>\n",
       "      <th>5247</th>\n",
       "      <td>Connect for Sonos.</td>\n",
       "      <td>1.0</td>\n",
       "      <td>132</td>\n",
       "      <td>Business</td>\n",
       "      <td>17-05-2020</td>\n",
       "      <td>3.12</td>\n",
       "      <td>2020</td>\n",
       "      <td>5</td>\n",
       "      <td>17</td>\n",
       "      <td>6</td>\n",
       "    </tr>\n",
       "    <tr>\n",
       "      <th>5226</th>\n",
       "      <td>AirPlay to Apple TV.</td>\n",
       "      <td>1.0</td>\n",
       "      <td>131</td>\n",
       "      <td>Business</td>\n",
       "      <td>15-05-2020</td>\n",
       "      <td>3.12</td>\n",
       "      <td>2020</td>\n",
       "      <td>5</td>\n",
       "      <td>15</td>\n",
       "      <td>4</td>\n",
       "    </tr>\n",
       "    <tr>\n",
       "      <th>5250</th>\n",
       "      <td>Client for Amazon Photos.</td>\n",
       "      <td>1.0</td>\n",
       "      <td>130</td>\n",
       "      <td>Business</td>\n",
       "      <td>05-05-2020</td>\n",
       "      <td>3.12</td>\n",
       "      <td>2020</td>\n",
       "      <td>5</td>\n",
       "      <td>5</td>\n",
       "      <td>1</td>\n",
       "    </tr>\n",
       "    <tr>\n",
       "      <th>4463</th>\n",
       "      <td>New Age Player</td>\n",
       "      <td>1.0</td>\n",
       "      <td>129</td>\n",
       "      <td>Music</td>\n",
       "      <td>27-12-2013</td>\n",
       "      <td>0.00</td>\n",
       "      <td>2013</td>\n",
       "      <td>12</td>\n",
       "      <td>27</td>\n",
       "      <td>4</td>\n",
       "    </tr>\n",
       "    <tr>\n",
       "      <th>1684</th>\n",
       "      <td>RandomNumberGen</td>\n",
       "      <td>1.0</td>\n",
       "      <td>118</td>\n",
       "      <td>Developer Tools</td>\n",
       "      <td>23-03-2017</td>\n",
       "      <td>0.00</td>\n",
       "      <td>2017</td>\n",
       "      <td>3</td>\n",
       "      <td>23</td>\n",
       "      <td>3</td>\n",
       "    </tr>\n",
       "    <tr>\n",
       "      <th>2273</th>\n",
       "      <td>MSAR</td>\n",
       "      <td>1.0</td>\n",
       "      <td>115</td>\n",
       "      <td>Government and Politics</td>\n",
       "      <td>19-05-2016</td>\n",
       "      <td>0.00</td>\n",
       "      <td>2016</td>\n",
       "      <td>5</td>\n",
       "      <td>19</td>\n",
       "      <td>3</td>\n",
       "    </tr>\n",
       "    <tr>\n",
       "      <th>3142</th>\n",
       "      <td>Model Railroad Manager</td>\n",
       "      <td>1.0</td>\n",
       "      <td>108</td>\n",
       "      <td>Kids and Family</td>\n",
       "      <td>20-11-2017</td>\n",
       "      <td>0.00</td>\n",
       "      <td>2017</td>\n",
       "      <td>11</td>\n",
       "      <td>20</td>\n",
       "      <td>0</td>\n",
       "    </tr>\n",
       "    <tr>\n",
       "      <th>4622</th>\n",
       "      <td>MapWorks Essentials</td>\n",
       "      <td>1.0</td>\n",
       "      <td>108</td>\n",
       "      <td>Navigation and Maps</td>\n",
       "      <td>04-11-2016</td>\n",
       "      <td>0.00</td>\n",
       "      <td>2016</td>\n",
       "      <td>4</td>\n",
       "      <td>11</td>\n",
       "      <td>0</td>\n",
       "    </tr>\n",
       "  </tbody>\n",
       "</table>\n",
       "</div>"
      ],
      "text/plain": [
       "                                     Name  Rating  No_of_people_Rated  \\\n",
       "4444  Rennie Foster - Heart Shaped Shadow     1.0                 176   \n",
       "5249                 Mirror to Samsung TV     1.0                 175   \n",
       "5267                    Remote for Sonos.     1.0                 170   \n",
       "1963                           ModernDeck     1.0                 164   \n",
       "4074                       Transpose FREE     1.0                 163   \n",
       "495                Romeo and Juliet ebook     1.0                 159   \n",
       "783                 PeoplePerHour Desktop     1.0                 155   \n",
       "5299        Offline Documentation Browser     1.0                 153   \n",
       "1717            UWP Advertising C# Sample     1.0                 146   \n",
       "1879                     Social Companion     1.0                 140   \n",
       "5240           Screen Mirror to Apple TV.     1.0                 138   \n",
       "3295                      Flos Catalogues     1.0                 133   \n",
       "5247                   Connect for Sonos.     1.0                 132   \n",
       "5226                 AirPlay to Apple TV.     1.0                 131   \n",
       "5250            Client for Amazon Photos.     1.0                 130   \n",
       "4463                       New Age Player     1.0                 129   \n",
       "1684                      RandomNumberGen     1.0                 118   \n",
       "2273                                 MSAR     1.0                 115   \n",
       "3142               Model Railroad Manager     1.0                 108   \n",
       "4622                  MapWorks Essentials     1.0                 108   \n",
       "\n",
       "                     Category        Date  Price  year  month  day  weekday  \n",
       "4444                    Music  15-08-2013   0.00  2013      8   15        3  \n",
       "5249                 Business  20-05-2020   3.12  2020      5   20        2  \n",
       "5267                 Business  09-05-2020   3.12  2020      9    5        5  \n",
       "1963                   Social  09-05-2019   0.00  2019      9    5        3  \n",
       "4074                    Music  01-02-2017   0.00  2017      1    2        0  \n",
       "495                     Books  25-04-2017   0.00  2017      4   25        1  \n",
       "783                  Business  21-06-2017   0.00  2017      6   21        2  \n",
       "5299          Developer Tools  13-03-2020  13.33  2020      3   13        4  \n",
       "1717          Developer Tools  27-07-2017   0.00  2017      7   27        3  \n",
       "1879                   Social  06-09-2016   0.00  2016      6    9        3  \n",
       "5240                 Business  10-05-2020   3.12  2020     10    5        0  \n",
       "3295                Lifestyle  17-09-2015   0.00  2015      9   17        3  \n",
       "5247                 Business  17-05-2020   3.12  2020      5   17        6  \n",
       "5226                 Business  15-05-2020   3.12  2020      5   15        4  \n",
       "5250                 Business  05-05-2020   3.12  2020      5    5        1  \n",
       "4463                    Music  27-12-2013   0.00  2013     12   27        4  \n",
       "1684          Developer Tools  23-03-2017   0.00  2017      3   23        3  \n",
       "2273  Government and Politics  19-05-2016   0.00  2016      5   19        3  \n",
       "3142          Kids and Family  20-11-2017   0.00  2017     11   20        0  \n",
       "4622      Navigation and Maps  04-11-2016   0.00  2016      4   11        0  "
      ]
     },
     "execution_count": 343,
     "metadata": {},
     "output_type": "execute_result"
    }
   ],
   "source": [
    "worst_apps"
   ]
  },
  {
   "cell_type": "markdown",
   "metadata": {},
   "source": [
    "As we can see, the most popular app is some app from social category called ILN and the worst are MapWorks Essentials and Model Railroad Manager with rating 1 star and only 108 downloads."
   ]
  },
  {
   "cell_type": "markdown",
   "metadata": {},
   "source": [
    "### Q2: Which 10 apps are the most expensive?"
   ]
  },
  {
   "cell_type": "markdown",
   "metadata": {},
   "source": [
    "We have two posibilities to explore it, using only `data.sort_values` by itself and also `data.groupby` and `data.sort_value`using together. I'm going to show both of them to see the difference between these 2 methods."
   ]
  },
  {
   "cell_type": "markdown",
   "metadata": {},
   "source": [
    "As first, lets do it using `data.sort_values`. Using this method, our dataset is sorted by price, but we also can see other information about apps, like what is Rating of it, which Category is this app belong and all other columns."
   ]
  },
  {
   "cell_type": "code",
   "execution_count": 344,
   "metadata": {},
   "outputs": [],
   "source": [
    "expensive_apps = data.sort_values(\"Price\", ascending = False).head(10)"
   ]
  },
  {
   "cell_type": "code",
   "execution_count": 345,
   "metadata": {
    "scrolled": true
   },
   "outputs": [
    {
     "data": {
      "text/html": [
       "<div>\n",
       "<style scoped>\n",
       "    .dataframe tbody tr th:only-of-type {\n",
       "        vertical-align: middle;\n",
       "    }\n",
       "\n",
       "    .dataframe tbody tr th {\n",
       "        vertical-align: top;\n",
       "    }\n",
       "\n",
       "    .dataframe thead th {\n",
       "        text-align: right;\n",
       "    }\n",
       "</style>\n",
       "<table border=\"1\" class=\"dataframe\">\n",
       "  <thead>\n",
       "    <tr style=\"text-align: right;\">\n",
       "      <th></th>\n",
       "      <th>Name</th>\n",
       "      <th>Rating</th>\n",
       "      <th>No_of_people_Rated</th>\n",
       "      <th>Category</th>\n",
       "      <th>Date</th>\n",
       "      <th>Price</th>\n",
       "      <th>year</th>\n",
       "      <th>month</th>\n",
       "      <th>day</th>\n",
       "      <th>weekday</th>\n",
       "    </tr>\n",
       "  </thead>\n",
       "  <tbody>\n",
       "    <tr>\n",
       "      <th>5281</th>\n",
       "      <td>Pengwin Enterprise</td>\n",
       "      <td>3.0</td>\n",
       "      <td>368</td>\n",
       "      <td>Developer Tools</td>\n",
       "      <td>29-11-2018</td>\n",
       "      <td>63.21</td>\n",
       "      <td>2018</td>\n",
       "      <td>11</td>\n",
       "      <td>29</td>\n",
       "      <td>3</td>\n",
       "    </tr>\n",
       "    <tr>\n",
       "      <th>5202</th>\n",
       "      <td>EasyReader</td>\n",
       "      <td>4.0</td>\n",
       "      <td>990</td>\n",
       "      <td>Books</td>\n",
       "      <td>10-07-2019</td>\n",
       "      <td>30.15</td>\n",
       "      <td>2019</td>\n",
       "      <td>10</td>\n",
       "      <td>7</td>\n",
       "      <td>0</td>\n",
       "    </tr>\n",
       "    <tr>\n",
       "      <th>5295</th>\n",
       "      <td>RocketCake Professional</td>\n",
       "      <td>4.0</td>\n",
       "      <td>691</td>\n",
       "      <td>Developer Tools</td>\n",
       "      <td>08-12-2016</td>\n",
       "      <td>24.93</td>\n",
       "      <td>2016</td>\n",
       "      <td>8</td>\n",
       "      <td>12</td>\n",
       "      <td>4</td>\n",
       "    </tr>\n",
       "    <tr>\n",
       "      <th>5310</th>\n",
       "      <td>EditPlus</td>\n",
       "      <td>4.0</td>\n",
       "      <td>778</td>\n",
       "      <td>Developer Tools</td>\n",
       "      <td>27-09-2016</td>\n",
       "      <td>22.03</td>\n",
       "      <td>2016</td>\n",
       "      <td>9</td>\n",
       "      <td>27</td>\n",
       "      <td>1</td>\n",
       "    </tr>\n",
       "    <tr>\n",
       "      <th>5175</th>\n",
       "      <td>Oxford Dictionary of English and Thesaurus</td>\n",
       "      <td>3.0</td>\n",
       "      <td>290</td>\n",
       "      <td>Books</td>\n",
       "      <td>23-01-2015</td>\n",
       "      <td>18.84</td>\n",
       "      <td>2015</td>\n",
       "      <td>1</td>\n",
       "      <td>23</td>\n",
       "      <td>4</td>\n",
       "    </tr>\n",
       "    <tr>\n",
       "      <th>5255</th>\n",
       "      <td>Office Suite - Powerful editor for Adobe pdf a...</td>\n",
       "      <td>4.0</td>\n",
       "      <td>352</td>\n",
       "      <td>Business</td>\n",
       "      <td>01-12-2017</td>\n",
       "      <td>18.84</td>\n",
       "      <td>2017</td>\n",
       "      <td>1</td>\n",
       "      <td>12</td>\n",
       "      <td>3</td>\n",
       "    </tr>\n",
       "    <tr>\n",
       "      <th>5183</th>\n",
       "      <td>Oxford Advanced Learner's Dictionary, 8th edition</td>\n",
       "      <td>4.0</td>\n",
       "      <td>403</td>\n",
       "      <td>Books</td>\n",
       "      <td>31-01-2013</td>\n",
       "      <td>18.84</td>\n",
       "      <td>2013</td>\n",
       "      <td>1</td>\n",
       "      <td>31</td>\n",
       "      <td>3</td>\n",
       "    </tr>\n",
       "    <tr>\n",
       "      <th>5259</th>\n",
       "      <td>Grapholite - Diagrams, Flow Charts and Floor P...</td>\n",
       "      <td>4.0</td>\n",
       "      <td>287</td>\n",
       "      <td>Business</td>\n",
       "      <td>22-02-2013</td>\n",
       "      <td>17.65</td>\n",
       "      <td>2013</td>\n",
       "      <td>2</td>\n",
       "      <td>22</td>\n",
       "      <td>4</td>\n",
       "    </tr>\n",
       "    <tr>\n",
       "      <th>5181</th>\n",
       "      <td>Oxford Dictionary of English</td>\n",
       "      <td>4.0</td>\n",
       "      <td>391</td>\n",
       "      <td>Books</td>\n",
       "      <td>22-07-2014</td>\n",
       "      <td>15.65</td>\n",
       "      <td>2014</td>\n",
       "      <td>7</td>\n",
       "      <td>22</td>\n",
       "      <td>1</td>\n",
       "    </tr>\n",
       "    <tr>\n",
       "      <th>5299</th>\n",
       "      <td>Offline Documentation Browser</td>\n",
       "      <td>1.0</td>\n",
       "      <td>153</td>\n",
       "      <td>Developer Tools</td>\n",
       "      <td>13-03-2020</td>\n",
       "      <td>13.33</td>\n",
       "      <td>2020</td>\n",
       "      <td>3</td>\n",
       "      <td>13</td>\n",
       "      <td>4</td>\n",
       "    </tr>\n",
       "  </tbody>\n",
       "</table>\n",
       "</div>"
      ],
      "text/plain": [
       "                                                   Name  Rating  \\\n",
       "5281                                 Pengwin Enterprise     3.0   \n",
       "5202                                         EasyReader     4.0   \n",
       "5295                            RocketCake Professional     4.0   \n",
       "5310                                           EditPlus     4.0   \n",
       "5175         Oxford Dictionary of English and Thesaurus     3.0   \n",
       "5255  Office Suite - Powerful editor for Adobe pdf a...     4.0   \n",
       "5183  Oxford Advanced Learner's Dictionary, 8th edition     4.0   \n",
       "5259  Grapholite - Diagrams, Flow Charts and Floor P...     4.0   \n",
       "5181                       Oxford Dictionary of English     4.0   \n",
       "5299                      Offline Documentation Browser     1.0   \n",
       "\n",
       "      No_of_people_Rated         Category        Date  Price  year  month  \\\n",
       "5281                 368  Developer Tools  29-11-2018  63.21  2018     11   \n",
       "5202                 990            Books  10-07-2019  30.15  2019     10   \n",
       "5295                 691  Developer Tools  08-12-2016  24.93  2016      8   \n",
       "5310                 778  Developer Tools  27-09-2016  22.03  2016      9   \n",
       "5175                 290            Books  23-01-2015  18.84  2015      1   \n",
       "5255                 352         Business  01-12-2017  18.84  2017      1   \n",
       "5183                 403            Books  31-01-2013  18.84  2013      1   \n",
       "5259                 287         Business  22-02-2013  17.65  2013      2   \n",
       "5181                 391            Books  22-07-2014  15.65  2014      7   \n",
       "5299                 153  Developer Tools  13-03-2020  13.33  2020      3   \n",
       "\n",
       "      day  weekday  \n",
       "5281   29        3  \n",
       "5202    7        0  \n",
       "5295   12        4  \n",
       "5310   27        1  \n",
       "5175   23        4  \n",
       "5255   12        3  \n",
       "5183   31        3  \n",
       "5259   22        4  \n",
       "5181   22        1  \n",
       "5299   13        4  "
      ]
     },
     "execution_count": 345,
     "metadata": {},
     "output_type": "execute_result"
    }
   ],
   "source": [
    "expensive_apps"
   ]
  },
  {
   "cell_type": "markdown",
   "metadata": {},
   "source": [
    "Now we will use the second method. Here we can group it by every column which we want. For example for a good visibility, I'll group it by name of app and price. And here we can clearly see every price of app. And as expected, it shows 10 the most expensive apps."
   ]
  },
  {
   "cell_type": "code",
   "execution_count": 346,
   "metadata": {},
   "outputs": [
    {
     "data": {
      "text/html": [
       "<div>\n",
       "<style scoped>\n",
       "    .dataframe tbody tr th:only-of-type {\n",
       "        vertical-align: middle;\n",
       "    }\n",
       "\n",
       "    .dataframe tbody tr th {\n",
       "        vertical-align: top;\n",
       "    }\n",
       "\n",
       "    .dataframe thead th {\n",
       "        text-align: right;\n",
       "    }\n",
       "</style>\n",
       "<table border=\"1\" class=\"dataframe\">\n",
       "  <thead>\n",
       "    <tr style=\"text-align: right;\">\n",
       "      <th></th>\n",
       "      <th>Price</th>\n",
       "    </tr>\n",
       "    <tr>\n",
       "      <th>Name</th>\n",
       "      <th></th>\n",
       "    </tr>\n",
       "  </thead>\n",
       "  <tbody>\n",
       "    <tr>\n",
       "      <th>Pengwin Enterprise</th>\n",
       "      <td>63.21</td>\n",
       "    </tr>\n",
       "    <tr>\n",
       "      <th>EasyReader</th>\n",
       "      <td>30.15</td>\n",
       "    </tr>\n",
       "    <tr>\n",
       "      <th>RocketCake Professional</th>\n",
       "      <td>24.93</td>\n",
       "    </tr>\n",
       "    <tr>\n",
       "      <th>EditPlus</th>\n",
       "      <td>22.03</td>\n",
       "    </tr>\n",
       "    <tr>\n",
       "      <th>Oxford Advanced Learner's Dictionary, 8th edition</th>\n",
       "      <td>18.84</td>\n",
       "    </tr>\n",
       "    <tr>\n",
       "      <th>Oxford Dictionary of English and Thesaurus</th>\n",
       "      <td>18.84</td>\n",
       "    </tr>\n",
       "    <tr>\n",
       "      <th>Office Suite - Powerful editor for Adobe pdf and Microsoft doc docx xls xlsx ppt pptx</th>\n",
       "      <td>18.84</td>\n",
       "    </tr>\n",
       "    <tr>\n",
       "      <th>Grapholite - Diagrams, Flow Charts and Floor Plans Designer</th>\n",
       "      <td>17.65</td>\n",
       "    </tr>\n",
       "    <tr>\n",
       "      <th>Oxford Dictionary of English</th>\n",
       "      <td>15.65</td>\n",
       "    </tr>\n",
       "    <tr>\n",
       "      <th>Offline Documentation Browser</th>\n",
       "      <td>13.33</td>\n",
       "    </tr>\n",
       "  </tbody>\n",
       "</table>\n",
       "</div>"
      ],
      "text/plain": [
       "                                                    Price\n",
       "Name                                                     \n",
       "Pengwin Enterprise                                  63.21\n",
       "EasyReader                                          30.15\n",
       "RocketCake Professional                             24.93\n",
       "EditPlus                                            22.03\n",
       "Oxford Advanced Learner's Dictionary, 8th edition   18.84\n",
       "Oxford Dictionary of English and Thesaurus          18.84\n",
       "Office Suite - Powerful editor for Adobe pdf an...  18.84\n",
       "Grapholite - Diagrams, Flow Charts and Floor Pl...  17.65\n",
       "Oxford Dictionary of English                        15.65\n",
       "Offline Documentation Browser                       13.33"
      ]
     },
     "execution_count": 346,
     "metadata": {},
     "output_type": "execute_result"
    }
   ],
   "source": [
    "data.groupby('Name')[['Price']].sum().sort_values(['Price'], ascending = False).head(10)"
   ]
  },
  {
   "cell_type": "markdown",
   "metadata": {},
   "source": [
    "### Q3: In which year, weekday, month and day was the most downloads in Windows Store? "
   ]
  },
  {
   "cell_type": "markdown",
   "metadata": {},
   "source": [
    "We can do it using `data.groupby` and `sort.values` again."
   ]
  },
  {
   "cell_type": "code",
   "execution_count": 347,
   "metadata": {},
   "outputs": [
    {
     "data": {
      "text/html": [
       "<div>\n",
       "<style scoped>\n",
       "    .dataframe tbody tr th:only-of-type {\n",
       "        vertical-align: middle;\n",
       "    }\n",
       "\n",
       "    .dataframe tbody tr th {\n",
       "        vertical-align: top;\n",
       "    }\n",
       "\n",
       "    .dataframe thead th {\n",
       "        text-align: right;\n",
       "    }\n",
       "</style>\n",
       "<table border=\"1\" class=\"dataframe\">\n",
       "  <thead>\n",
       "    <tr style=\"text-align: right;\">\n",
       "      <th></th>\n",
       "      <th></th>\n",
       "      <th></th>\n",
       "      <th></th>\n",
       "      <th>No_of_people_Rated</th>\n",
       "    </tr>\n",
       "    <tr>\n",
       "      <th>year</th>\n",
       "      <th>weekday</th>\n",
       "      <th>month</th>\n",
       "      <th>day</th>\n",
       "      <th></th>\n",
       "    </tr>\n",
       "  </thead>\n",
       "  <tbody>\n",
       "    <tr>\n",
       "      <th>2018</th>\n",
       "      <th>1</th>\n",
       "      <th>1</th>\n",
       "      <th>30</th>\n",
       "      <td>47300</td>\n",
       "    </tr>\n",
       "    <tr>\n",
       "      <th>2014</th>\n",
       "      <th>0</th>\n",
       "      <th>9</th>\n",
       "      <th>8</th>\n",
       "      <td>12703</td>\n",
       "    </tr>\n",
       "    <tr>\n",
       "      <th>2018</th>\n",
       "      <th>0</th>\n",
       "      <th>1</th>\n",
       "      <th>29</th>\n",
       "      <td>8936</td>\n",
       "    </tr>\n",
       "    <tr>\n",
       "      <th>2014</th>\n",
       "      <th>4</th>\n",
       "      <th>10</th>\n",
       "      <th>3</th>\n",
       "      <td>7073</td>\n",
       "    </tr>\n",
       "    <tr>\n",
       "      <th>2018</th>\n",
       "      <th>3</th>\n",
       "      <th>8</th>\n",
       "      <th>9</th>\n",
       "      <td>7018</td>\n",
       "    </tr>\n",
       "    <tr>\n",
       "      <th>...</th>\n",
       "      <th>...</th>\n",
       "      <th>...</th>\n",
       "      <th>...</th>\n",
       "      <td>...</td>\n",
       "    </tr>\n",
       "    <tr>\n",
       "      <th>2014</th>\n",
       "      <th>2</th>\n",
       "      <th>11</th>\n",
       "      <th>26</th>\n",
       "      <td>104</td>\n",
       "    </tr>\n",
       "    <tr>\n",
       "      <th>2018</th>\n",
       "      <th>2</th>\n",
       "      <th>8</th>\n",
       "      <th>22</th>\n",
       "      <td>103</td>\n",
       "    </tr>\n",
       "    <tr>\n",
       "      <th>2015</th>\n",
       "      <th>1</th>\n",
       "      <th>7</th>\n",
       "      <th>28</th>\n",
       "      <td>102</td>\n",
       "    </tr>\n",
       "    <tr>\n",
       "      <th>2018</th>\n",
       "      <th>1</th>\n",
       "      <th>12</th>\n",
       "      <th>4</th>\n",
       "      <td>101</td>\n",
       "    </tr>\n",
       "    <tr>\n",
       "      <th>2019</th>\n",
       "      <th>1</th>\n",
       "      <th>11</th>\n",
       "      <th>19</th>\n",
       "      <td>100</td>\n",
       "    </tr>\n",
       "  </tbody>\n",
       "</table>\n",
       "<p>2124 rows × 1 columns</p>\n",
       "</div>"
      ],
      "text/plain": [
       "                        No_of_people_Rated\n",
       "year weekday month day                    \n",
       "2018 1       1     30                47300\n",
       "2014 0       9     8                 12703\n",
       "2018 0       1     29                 8936\n",
       "2014 4       10    3                  7073\n",
       "2018 3       8     9                  7018\n",
       "...                                    ...\n",
       "2014 2       11    26                  104\n",
       "2018 2       8     22                  103\n",
       "2015 1       7     28                  102\n",
       "2018 1       12    4                   101\n",
       "2019 1       11    19                  100\n",
       "\n",
       "[2124 rows x 1 columns]"
      ]
     },
     "execution_count": 347,
     "metadata": {},
     "output_type": "execute_result"
    }
   ],
   "source": [
    "data.groupby(['year', 'weekday', 'month', 'day'])[['No_of_people_Rated']].sum().sort_values(['No_of_people_Rated'],ascending = False)"
   ]
  },
  {
   "cell_type": "markdown",
   "metadata": {},
   "source": [
    "So looks like on 30th of January 2018, which is Tuesday, was happend the most downloads from Windows Store."
   ]
  },
  {
   "cell_type": "markdown",
   "metadata": {},
   "source": [
    "But lets see the downloads single in year, weekday, month and day as well."
   ]
  },
  {
   "cell_type": "code",
   "execution_count": 348,
   "metadata": {},
   "outputs": [
    {
     "data": {
      "text/html": [
       "<div>\n",
       "<style scoped>\n",
       "    .dataframe tbody tr th:only-of-type {\n",
       "        vertical-align: middle;\n",
       "    }\n",
       "\n",
       "    .dataframe tbody tr th {\n",
       "        vertical-align: top;\n",
       "    }\n",
       "\n",
       "    .dataframe thead th {\n",
       "        text-align: right;\n",
       "    }\n",
       "</style>\n",
       "<table border=\"1\" class=\"dataframe\">\n",
       "  <thead>\n",
       "    <tr style=\"text-align: right;\">\n",
       "      <th></th>\n",
       "      <th>No_of_people_Rated</th>\n",
       "    </tr>\n",
       "    <tr>\n",
       "      <th>year</th>\n",
       "      <th></th>\n",
       "    </tr>\n",
       "  </thead>\n",
       "  <tbody>\n",
       "    <tr>\n",
       "      <th>2016</th>\n",
       "      <td>547455</td>\n",
       "    </tr>\n",
       "    <tr>\n",
       "      <th>2018</th>\n",
       "      <td>444461</td>\n",
       "    </tr>\n",
       "    <tr>\n",
       "      <th>2017</th>\n",
       "      <td>433195</td>\n",
       "    </tr>\n",
       "    <tr>\n",
       "      <th>2015</th>\n",
       "      <td>324753</td>\n",
       "    </tr>\n",
       "    <tr>\n",
       "      <th>2014</th>\n",
       "      <td>322020</td>\n",
       "    </tr>\n",
       "    <tr>\n",
       "      <th>2013</th>\n",
       "      <td>296449</td>\n",
       "    </tr>\n",
       "    <tr>\n",
       "      <th>2019</th>\n",
       "      <td>259434</td>\n",
       "    </tr>\n",
       "    <tr>\n",
       "      <th>2012</th>\n",
       "      <td>182980</td>\n",
       "    </tr>\n",
       "    <tr>\n",
       "      <th>2020</th>\n",
       "      <td>102627</td>\n",
       "    </tr>\n",
       "    <tr>\n",
       "      <th>2011</th>\n",
       "      <td>19310</td>\n",
       "    </tr>\n",
       "    <tr>\n",
       "      <th>2010</th>\n",
       "      <td>3437</td>\n",
       "    </tr>\n",
       "  </tbody>\n",
       "</table>\n",
       "</div>"
      ],
      "text/plain": [
       "      No_of_people_Rated\n",
       "year                    \n",
       "2016              547455\n",
       "2018              444461\n",
       "2017              433195\n",
       "2015              324753\n",
       "2014              322020\n",
       "2013              296449\n",
       "2019              259434\n",
       "2012              182980\n",
       "2020              102627\n",
       "2011               19310\n",
       "2010                3437"
      ]
     },
     "execution_count": 348,
     "metadata": {},
     "output_type": "execute_result"
    }
   ],
   "source": [
    "data.groupby(['year'])[['No_of_people_Rated']].sum().sort_values(['No_of_people_Rated'], ascending = False)"
   ]
  },
  {
   "cell_type": "code",
   "execution_count": 349,
   "metadata": {},
   "outputs": [
    {
     "data": {
      "text/html": [
       "<div>\n",
       "<style scoped>\n",
       "    .dataframe tbody tr th:only-of-type {\n",
       "        vertical-align: middle;\n",
       "    }\n",
       "\n",
       "    .dataframe tbody tr th {\n",
       "        vertical-align: top;\n",
       "    }\n",
       "\n",
       "    .dataframe thead th {\n",
       "        text-align: right;\n",
       "    }\n",
       "</style>\n",
       "<table border=\"1\" class=\"dataframe\">\n",
       "  <thead>\n",
       "    <tr style=\"text-align: right;\">\n",
       "      <th></th>\n",
       "      <th>No_of_people_Rated</th>\n",
       "    </tr>\n",
       "    <tr>\n",
       "      <th>weekday</th>\n",
       "      <th></th>\n",
       "    </tr>\n",
       "  </thead>\n",
       "  <tbody>\n",
       "    <tr>\n",
       "      <th>0</th>\n",
       "      <td>563905</td>\n",
       "    </tr>\n",
       "    <tr>\n",
       "      <th>1</th>\n",
       "      <td>473089</td>\n",
       "    </tr>\n",
       "    <tr>\n",
       "      <th>3</th>\n",
       "      <td>466341</td>\n",
       "    </tr>\n",
       "    <tr>\n",
       "      <th>2</th>\n",
       "      <td>463665</td>\n",
       "    </tr>\n",
       "    <tr>\n",
       "      <th>4</th>\n",
       "      <td>460497</td>\n",
       "    </tr>\n",
       "    <tr>\n",
       "      <th>5</th>\n",
       "      <td>287821</td>\n",
       "    </tr>\n",
       "    <tr>\n",
       "      <th>6</th>\n",
       "      <td>220803</td>\n",
       "    </tr>\n",
       "  </tbody>\n",
       "</table>\n",
       "</div>"
      ],
      "text/plain": [
       "         No_of_people_Rated\n",
       "weekday                    \n",
       "0                    563905\n",
       "1                    473089\n",
       "3                    466341\n",
       "2                    463665\n",
       "4                    460497\n",
       "5                    287821\n",
       "6                    220803"
      ]
     },
     "execution_count": 349,
     "metadata": {},
     "output_type": "execute_result"
    }
   ],
   "source": [
    "data.groupby(['weekday'])[['No_of_people_Rated']].sum().sort_values(['No_of_people_Rated'], ascending = False)"
   ]
  },
  {
   "cell_type": "code",
   "execution_count": 350,
   "metadata": {},
   "outputs": [
    {
     "data": {
      "text/html": [
       "<div>\n",
       "<style scoped>\n",
       "    .dataframe tbody tr th:only-of-type {\n",
       "        vertical-align: middle;\n",
       "    }\n",
       "\n",
       "    .dataframe tbody tr th {\n",
       "        vertical-align: top;\n",
       "    }\n",
       "\n",
       "    .dataframe thead th {\n",
       "        text-align: right;\n",
       "    }\n",
       "</style>\n",
       "<table border=\"1\" class=\"dataframe\">\n",
       "  <thead>\n",
       "    <tr style=\"text-align: right;\">\n",
       "      <th></th>\n",
       "      <th>No_of_people_Rated</th>\n",
       "    </tr>\n",
       "    <tr>\n",
       "      <th>month</th>\n",
       "      <th></th>\n",
       "    </tr>\n",
       "  </thead>\n",
       "  <tbody>\n",
       "    <tr>\n",
       "      <th>10</th>\n",
       "      <td>287169</td>\n",
       "    </tr>\n",
       "    <tr>\n",
       "      <th>1</th>\n",
       "      <td>284256</td>\n",
       "    </tr>\n",
       "    <tr>\n",
       "      <th>5</th>\n",
       "      <td>260171</td>\n",
       "    </tr>\n",
       "    <tr>\n",
       "      <th>8</th>\n",
       "      <td>252026</td>\n",
       "    </tr>\n",
       "    <tr>\n",
       "      <th>9</th>\n",
       "      <td>250583</td>\n",
       "    </tr>\n",
       "    <tr>\n",
       "      <th>2</th>\n",
       "      <td>246750</td>\n",
       "    </tr>\n",
       "    <tr>\n",
       "      <th>3</th>\n",
       "      <td>239969</td>\n",
       "    </tr>\n",
       "    <tr>\n",
       "      <th>7</th>\n",
       "      <td>238490</td>\n",
       "    </tr>\n",
       "    <tr>\n",
       "      <th>11</th>\n",
       "      <td>229105</td>\n",
       "    </tr>\n",
       "    <tr>\n",
       "      <th>6</th>\n",
       "      <td>221099</td>\n",
       "    </tr>\n",
       "    <tr>\n",
       "      <th>12</th>\n",
       "      <td>213451</td>\n",
       "    </tr>\n",
       "    <tr>\n",
       "      <th>4</th>\n",
       "      <td>213052</td>\n",
       "    </tr>\n",
       "  </tbody>\n",
       "</table>\n",
       "</div>"
      ],
      "text/plain": [
       "       No_of_people_Rated\n",
       "month                    \n",
       "10                 287169\n",
       "1                  284256\n",
       "5                  260171\n",
       "8                  252026\n",
       "9                  250583\n",
       "2                  246750\n",
       "3                  239969\n",
       "7                  238490\n",
       "11                 229105\n",
       "6                  221099\n",
       "12                 213451\n",
       "4                  213052"
      ]
     },
     "execution_count": 350,
     "metadata": {},
     "output_type": "execute_result"
    }
   ],
   "source": [
    "data.groupby(['month'])[['No_of_people_Rated']].sum().sort_values(['No_of_people_Rated'], ascending = False)"
   ]
  },
  {
   "cell_type": "code",
   "execution_count": 351,
   "metadata": {},
   "outputs": [
    {
     "data": {
      "text/html": [
       "<div>\n",
       "<style scoped>\n",
       "    .dataframe tbody tr th:only-of-type {\n",
       "        vertical-align: middle;\n",
       "    }\n",
       "\n",
       "    .dataframe tbody tr th {\n",
       "        vertical-align: top;\n",
       "    }\n",
       "\n",
       "    .dataframe thead th {\n",
       "        text-align: right;\n",
       "    }\n",
       "</style>\n",
       "<table border=\"1\" class=\"dataframe\">\n",
       "  <thead>\n",
       "    <tr style=\"text-align: right;\">\n",
       "      <th></th>\n",
       "      <th>No_of_people_Rated</th>\n",
       "    </tr>\n",
       "    <tr>\n",
       "      <th>day</th>\n",
       "      <th></th>\n",
       "    </tr>\n",
       "  </thead>\n",
       "  <tbody>\n",
       "    <tr>\n",
       "      <th>30</th>\n",
       "      <td>123677</td>\n",
       "    </tr>\n",
       "    <tr>\n",
       "      <th>3</th>\n",
       "      <td>119978</td>\n",
       "    </tr>\n",
       "    <tr>\n",
       "      <th>26</th>\n",
       "      <td>111143</td>\n",
       "    </tr>\n",
       "    <tr>\n",
       "      <th>13</th>\n",
       "      <td>109815</td>\n",
       "    </tr>\n",
       "    <tr>\n",
       "      <th>19</th>\n",
       "      <td>106944</td>\n",
       "    </tr>\n",
       "    <tr>\n",
       "      <th>10</th>\n",
       "      <td>105823</td>\n",
       "    </tr>\n",
       "    <tr>\n",
       "      <th>22</th>\n",
       "      <td>105690</td>\n",
       "    </tr>\n",
       "    <tr>\n",
       "      <th>29</th>\n",
       "      <td>103981</td>\n",
       "    </tr>\n",
       "    <tr>\n",
       "      <th>24</th>\n",
       "      <td>103644</td>\n",
       "    </tr>\n",
       "    <tr>\n",
       "      <th>16</th>\n",
       "      <td>101829</td>\n",
       "    </tr>\n",
       "    <tr>\n",
       "      <th>2</th>\n",
       "      <td>101047</td>\n",
       "    </tr>\n",
       "    <tr>\n",
       "      <th>27</th>\n",
       "      <td>98994</td>\n",
       "    </tr>\n",
       "    <tr>\n",
       "      <th>8</th>\n",
       "      <td>96851</td>\n",
       "    </tr>\n",
       "    <tr>\n",
       "      <th>1</th>\n",
       "      <td>96303</td>\n",
       "    </tr>\n",
       "    <tr>\n",
       "      <th>20</th>\n",
       "      <td>96155</td>\n",
       "    </tr>\n",
       "    <tr>\n",
       "      <th>11</th>\n",
       "      <td>95114</td>\n",
       "    </tr>\n",
       "    <tr>\n",
       "      <th>28</th>\n",
       "      <td>94245</td>\n",
       "    </tr>\n",
       "    <tr>\n",
       "      <th>5</th>\n",
       "      <td>92752</td>\n",
       "    </tr>\n",
       "    <tr>\n",
       "      <th>15</th>\n",
       "      <td>90861</td>\n",
       "    </tr>\n",
       "    <tr>\n",
       "      <th>7</th>\n",
       "      <td>90042</td>\n",
       "    </tr>\n",
       "    <tr>\n",
       "      <th>14</th>\n",
       "      <td>88053</td>\n",
       "    </tr>\n",
       "    <tr>\n",
       "      <th>23</th>\n",
       "      <td>87542</td>\n",
       "    </tr>\n",
       "    <tr>\n",
       "      <th>18</th>\n",
       "      <td>87456</td>\n",
       "    </tr>\n",
       "    <tr>\n",
       "      <th>9</th>\n",
       "      <td>87390</td>\n",
       "    </tr>\n",
       "    <tr>\n",
       "      <th>25</th>\n",
       "      <td>87195</td>\n",
       "    </tr>\n",
       "    <tr>\n",
       "      <th>12</th>\n",
       "      <td>84698</td>\n",
       "    </tr>\n",
       "    <tr>\n",
       "      <th>6</th>\n",
       "      <td>82733</td>\n",
       "    </tr>\n",
       "    <tr>\n",
       "      <th>21</th>\n",
       "      <td>82280</td>\n",
       "    </tr>\n",
       "    <tr>\n",
       "      <th>4</th>\n",
       "      <td>76469</td>\n",
       "    </tr>\n",
       "    <tr>\n",
       "      <th>17</th>\n",
       "      <td>74498</td>\n",
       "    </tr>\n",
       "    <tr>\n",
       "      <th>31</th>\n",
       "      <td>52919</td>\n",
       "    </tr>\n",
       "  </tbody>\n",
       "</table>\n",
       "</div>"
      ],
      "text/plain": [
       "     No_of_people_Rated\n",
       "day                    \n",
       "30               123677\n",
       "3                119978\n",
       "26               111143\n",
       "13               109815\n",
       "19               106944\n",
       "10               105823\n",
       "22               105690\n",
       "29               103981\n",
       "24               103644\n",
       "16               101829\n",
       "2                101047\n",
       "27                98994\n",
       "8                 96851\n",
       "1                 96303\n",
       "20                96155\n",
       "11                95114\n",
       "28                94245\n",
       "5                 92752\n",
       "15                90861\n",
       "7                 90042\n",
       "14                88053\n",
       "23                87542\n",
       "18                87456\n",
       "9                 87390\n",
       "25                87195\n",
       "12                84698\n",
       "6                 82733\n",
       "21                82280\n",
       "4                 76469\n",
       "17                74498\n",
       "31                52919"
      ]
     },
     "execution_count": 351,
     "metadata": {},
     "output_type": "execute_result"
    }
   ],
   "source": [
    "data.groupby(['day'])[['No_of_people_Rated']].sum().sort_values(['No_of_people_Rated'], ascending = False)"
   ]
  },
  {
   "cell_type": "markdown",
   "metadata": {},
   "source": [
    "Obvious the most popular year for downloads was 2016, most popular weekday is Monday, most popular month is October and as we see, the most popular day for downloads is 30th of month."
   ]
  },
  {
   "cell_type": "markdown",
   "metadata": {},
   "source": [
    "### Q4: What is the most popular category of apps people downloading?"
   ]
  },
  {
   "cell_type": "markdown",
   "metadata": {},
   "source": [
    "Lets group it by Category und summarize all number of rated people."
   ]
  },
  {
   "cell_type": "code",
   "execution_count": 352,
   "metadata": {},
   "outputs": [
    {
     "data": {
      "text/html": [
       "<div>\n",
       "<style scoped>\n",
       "    .dataframe tbody tr th:only-of-type {\n",
       "        vertical-align: middle;\n",
       "    }\n",
       "\n",
       "    .dataframe tbody tr th {\n",
       "        vertical-align: top;\n",
       "    }\n",
       "\n",
       "    .dataframe thead th {\n",
       "        text-align: right;\n",
       "    }\n",
       "</style>\n",
       "<table border=\"1\" class=\"dataframe\">\n",
       "  <thead>\n",
       "    <tr style=\"text-align: right;\">\n",
       "      <th></th>\n",
       "      <th>No_of_people_Rated</th>\n",
       "    </tr>\n",
       "    <tr>\n",
       "      <th>Category</th>\n",
       "      <th></th>\n",
       "    </tr>\n",
       "  </thead>\n",
       "  <tbody>\n",
       "    <tr>\n",
       "      <th>Music</th>\n",
       "      <td>405946</td>\n",
       "    </tr>\n",
       "    <tr>\n",
       "      <th>Books</th>\n",
       "      <td>387822</td>\n",
       "    </tr>\n",
       "    <tr>\n",
       "      <th>Business</th>\n",
       "      <td>373083</td>\n",
       "    </tr>\n",
       "    <tr>\n",
       "      <th>Health and Fitness</th>\n",
       "      <td>294333</td>\n",
       "    </tr>\n",
       "    <tr>\n",
       "      <th>Lifestyle</th>\n",
       "      <td>273025</td>\n",
       "    </tr>\n",
       "    <tr>\n",
       "      <th>Developer Tools</th>\n",
       "      <td>272678</td>\n",
       "    </tr>\n",
       "    <tr>\n",
       "      <th>News and Weather</th>\n",
       "      <td>265386</td>\n",
       "    </tr>\n",
       "    <tr>\n",
       "      <th>Kids and Family</th>\n",
       "      <td>190832</td>\n",
       "    </tr>\n",
       "    <tr>\n",
       "      <th>Social</th>\n",
       "      <td>188652</td>\n",
       "    </tr>\n",
       "    <tr>\n",
       "      <th>Food and Dining</th>\n",
       "      <td>91448</td>\n",
       "    </tr>\n",
       "    <tr>\n",
       "      <th>Navigation and Maps</th>\n",
       "      <td>84859</td>\n",
       "    </tr>\n",
       "    <tr>\n",
       "      <th>Multimedia Design</th>\n",
       "      <td>69678</td>\n",
       "    </tr>\n",
       "    <tr>\n",
       "      <th>Government and Politics</th>\n",
       "      <td>38379</td>\n",
       "    </tr>\n",
       "  </tbody>\n",
       "</table>\n",
       "</div>"
      ],
      "text/plain": [
       "                         No_of_people_Rated\n",
       "Category                                   \n",
       "Music                                405946\n",
       "Books                                387822\n",
       "Business                             373083\n",
       "Health and Fitness                   294333\n",
       "Lifestyle                            273025\n",
       "Developer Tools                      272678\n",
       "News and Weather                     265386\n",
       "Kids and Family                      190832\n",
       "Social                               188652\n",
       "Food and Dining                       91448\n",
       "Navigation and Maps                   84859\n",
       "Multimedia Design                     69678\n",
       "Government and Politics               38379"
      ]
     },
     "execution_count": 352,
     "metadata": {},
     "output_type": "execute_result"
    }
   ],
   "source": [
    "data.groupby(['Category'])[['No_of_people_Rated']].sum().sort_values(['No_of_people_Rated'], ascending = False)"
   ]
  },
  {
   "cell_type": "markdown",
   "metadata": {},
   "source": [
    "It seems people downloading a lof music from Windows Store. And if we count now how many times every category appears in our dataset, we will seeth at music is really the the most popular category which appears in our dataset 753 times."
   ]
  },
  {
   "cell_type": "code",
   "execution_count": 353,
   "metadata": {},
   "outputs": [
    {
     "data": {
      "text/plain": [
       "Music                      753\n",
       "Books                      707\n",
       "Business                   679\n",
       "Health and Fitness         527\n",
       "Developer Tools            500\n",
       "Lifestyle                  492\n",
       "News and Weather           483\n",
       "Kids and Family            345\n",
       "Social                     328\n",
       "Food and Dining            166\n",
       "Navigation and Maps        154\n",
       "Multimedia Design          117\n",
       "Government and Politics     70\n",
       "Name: Category, dtype: int64"
      ]
     },
     "execution_count": 353,
     "metadata": {},
     "output_type": "execute_result"
    }
   ],
   "source": [
    "data.Category.value_counts()"
   ]
  },
  {
   "cell_type": "markdown",
   "metadata": {},
   "source": [
    "### Q5: How many people have downloaded the apps in total?\n",
    "### How many people have downloaded the apps on average per day?"
   ]
  },
  {
   "cell_type": "markdown",
   "metadata": {},
   "source": [
    "To answer this question, we can just use simple functions `mean` and `sum`."
   ]
  },
  {
   "cell_type": "code",
   "execution_count": 354,
   "metadata": {},
   "outputs": [],
   "source": [
    "in_total = data.No_of_people_Rated.sum()"
   ]
  },
  {
   "cell_type": "code",
   "execution_count": 355,
   "metadata": {},
   "outputs": [
    {
     "data": {
      "text/plain": [
       "2936121"
      ]
     },
     "execution_count": 355,
     "metadata": {},
     "output_type": "execute_result"
    }
   ],
   "source": [
    "in_total"
   ]
  },
  {
   "cell_type": "code",
   "execution_count": 356,
   "metadata": {},
   "outputs": [],
   "source": [
    "on_average_per_day = in_total/(len(data.year.unique())*365)"
   ]
  },
  {
   "cell_type": "code",
   "execution_count": 357,
   "metadata": {},
   "outputs": [
    {
     "data": {
      "text/plain": [
       "731.2879202988792"
      ]
     },
     "execution_count": 357,
     "metadata": {},
     "output_type": "execute_result"
    }
   ],
   "source": [
    "on_average_per_day"
   ]
  },
  {
   "cell_type": "markdown",
   "metadata": {},
   "source": [
    "We see, from year 2010 till today, from Windows Store it was in total more than 2.9 Million downloads, which means 731 downloads per day."
   ]
  },
  {
   "cell_type": "code",
   "execution_count": 358,
   "metadata": {},
   "outputs": [],
   "source": [
    "import jovian"
   ]
  },
  {
   "cell_type": "code",
   "execution_count": 359,
   "metadata": {},
   "outputs": [
    {
     "data": {
      "application/javascript": [
       "window.require && require([\"base/js/namespace\"],function(Jupyter){Jupyter.notebook.save_checkpoint()})"
      ],
      "text/plain": [
       "<IPython.core.display.Javascript object>"
      ]
     },
     "metadata": {},
     "output_type": "display_data"
    },
    {
     "name": "stdout",
     "output_type": "stream",
     "text": [
      "[jovian] Attempting to save notebook..\u001b[0m\n",
      "[jovian] Updating notebook \"yernaz-togizbayev/microsoft-store-project\" on https://jovian.ml/\u001b[0m\n",
      "[jovian] Uploading notebook..\u001b[0m\n",
      "[jovian] Capturing environment..\u001b[0m\n",
      "[jovian] Committed successfully! https://jovian.ml/yernaz-togizbayev/microsoft-store-project\u001b[0m\n"
     ]
    },
    {
     "data": {
      "text/plain": [
       "'https://jovian.ml/yernaz-togizbayev/microsoft-store-project'"
      ]
     },
     "execution_count": 359,
     "metadata": {},
     "output_type": "execute_result"
    }
   ],
   "source": [
    "jovian.commit()"
   ]
  },
  {
   "cell_type": "markdown",
   "metadata": {},
   "source": [
    "## Inferences and Conclusion\n",
    "In this project, we could see and analyze Windows Store from year 2010 until nowadays. So once again, let us summarize all plots together."
   ]
  },
  {
   "cell_type": "code",
   "execution_count": 360,
   "metadata": {},
   "outputs": [
    {
     "data": {
      "image/png": "[encoded data removed]",
      "text/plain": [
       "<Figure size 864x720 with 4 Axes>"
      ]
     },
     "metadata": {},
     "output_type": "display_data"
    }
   ],
   "source": [
    "fig, axes = plt.subplots(2, 2, figsize=(12, 10))\n",
    "\n",
    "# Use the axes for plotting\n",
    "axes[0,0].set_title('Which category is the most popular for download?')\n",
    "sns.barplot(most_popular_category.index, most_popular_category,ax=axes[0,0]);\n",
    "plt.setp(axes[0,0].xaxis.get_majorticklabels(), rotation=75)\n",
    "\n",
    "#axes[0,0].set_xticks(rotation = 75)\n",
    "\n",
    "\n",
    "# Pass the axes into seaborn\n",
    "axes[0,1].set_title('Which category has the most highest price?')\n",
    "Prices.plot(kind = \"pie\", autopct = lambda p: '{:.1f}%'.format(round(p)) if p > 0 else None, ax=axes[0,1]);\n",
    "\n",
    "\n",
    "\n",
    "# Use the axes for plotting\n",
    "axes[1,0].set_title(\"In which year were the most downloads from Windows Store?\")\n",
    "axes[1,0].set_xlabel('Years')\n",
    "axes[1,0].set_ylabel('Downloaded apps in this year')\n",
    "axes[1,0].plot(downloaded_apps_in_year.index, downloaded_apps_in_year, 'r-o');\n",
    "axes[1,0].set_xticks(downloaded_apps_in_year.index)\n",
    "\n",
    "\n",
    "\n",
    "# Pass the axes into seaborn\n",
    "axes[1,1].set_title(\"On which weekday do the most downloads take place?\")\n",
    "sns.barplot(downloads_weekday.index, downloads_weekday, ax=axes[1,1]);\n",
    "\n",
    "\n",
    "plt.tight_layout(pad=2);"
   ]
  },
  {
   "cell_type": "markdown",
   "metadata": {},
   "source": [
    "From this dataset, we could learn, what is the most downloaded category, which of category is the most expensive, in which year took place the most downloaded, and also on which weekday people prefer to download apps from Windows Store and we could see how many people are downloading apps per day."
   ]
  },
  {
   "cell_type": "code",
   "execution_count": 361,
   "metadata": {},
   "outputs": [],
   "source": [
    "import jovian"
   ]
  },
  {
   "cell_type": "code",
   "execution_count": 362,
   "metadata": {},
   "outputs": [
    {
     "data": {
      "application/javascript": [
       "window.require && require([\"base/js/namespace\"],function(Jupyter){Jupyter.notebook.save_checkpoint()})"
      ],
      "text/plain": [
       "<IPython.core.display.Javascript object>"
      ]
     },
     "metadata": {},
     "output_type": "display_data"
    },
    {
     "name": "stdout",
     "output_type": "stream",
     "text": [
      "[jovian] Attempting to save notebook..\u001b[0m\n",
      "[jovian] Updating notebook \"yernaz-togizbayev/microsoft-store-project\" on https://jovian.ml/\u001b[0m\n",
      "[jovian] Uploading notebook..\u001b[0m\n",
      "[jovian] Capturing environment..\u001b[0m\n",
      "[jovian] Committed successfully! https://jovian.ml/yernaz-togizbayev/microsoft-store-project\u001b[0m\n"
     ]
    },
    {
     "data": {
      "text/plain": [
       "'https://jovian.ml/yernaz-togizbayev/microsoft-store-project'"
      ]
     },
     "execution_count": 362,
     "metadata": {},
     "output_type": "execute_result"
    }
   ],
   "source": [
    "jovian.commit()"
   ]
  },
  {
   "cell_type": "markdown",
   "metadata": {},
   "source": [
    "## References and Future Work\n",
    "\n",
    "While I was working on the project, following links were very helpful. Hopefully, it helps you too.\n",
    "- Lectures from course 'Data Analysis with Python: Zero to Pandas': https://jovian.ml/learn/data-analysis-with-python-zero-to-pandas\n",
    "- Asking questions on the forum: https://jovian.ml/forum/c/data-analysis-with-python-zero-to-pandas/course-project/58\n",
    "- Looking for answers here: https://stackoverflow.com/\n",
    "- Pandas official homepage: https://pandas.pydata.org/pandas-docs/stable/reference/io.html\n",
    "- Matplotlib official homepage: https://matplotlib.org/index.html\n",
    "\n",
    "Windows Dataset were taken from [kagle](https://www.kaggle.com/).\n",
    "\n",
    "A huge thanks to Aakash from [Jovian.ml](https://jovian.ml/) for this amazing course and giving a lot of new knowledge in data analysis, and also thanks to [FreeCodeCamp](https://www.freecodecamp.org/) for providing your online [YouTbe platform](https://www.youtube.com/freecodecamp)."
   ]
  },
  {
   "cell_type": "code",
   "execution_count": 363,
   "metadata": {},
   "outputs": [],
   "source": [
    "import jovian"
   ]
  },
  {
   "cell_type": "code",
   "execution_count": null,
   "metadata": {},
   "outputs": [
    {
     "data": {
      "application/javascript": [
       "window.require && require([\"base/js/namespace\"],function(Jupyter){Jupyter.notebook.save_checkpoint()})"
      ],
      "text/plain": [
       "<IPython.core.display.Javascript object>"
      ]
     },
     "metadata": {},
     "output_type": "display_data"
    },
    {
     "name": "stdout",
     "output_type": "stream",
     "text": [
      "[jovian] Attempting to save notebook..\u001b[0m\n"
     ]
    }
   ],
   "source": [
    "jovian.commit()"
   ]
  }
 ],
 "metadata": {
  "kernelspec": {
   "display_name": "Python 3 (ipykernel)",
   "language": "python",
   "name": "python3"
  },
  "language_info": {
   "codemirror_mode": {
    "name": "ipython",
    "version": 3
   },
   "file_extension": ".py",
   "mimetype": "text/x-python",
   "name": "python",
   "nbconvert_exporter": "python",
   "pygments_lexer": "ipython3",
   "version": "3.9.7"
  }
 },
 "nbformat": 4,
 "nbformat_minor": 4
}
